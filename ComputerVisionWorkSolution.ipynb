{
  "nbformat": 4,
  "nbformat_minor": 0,
  "metadata": {
    "colab": {
      "provenance": [],
      "toc_visible": true,
      "authorship_tag": "ABX9TyPKElxs7a0zEeSOA+f4X7V6",
      "include_colab_link": true
    },
    "kernelspec": {
      "name": "python3",
      "display_name": "Python 3"
    },
    "language_info": {
      "name": "python"
    }
  },
  "cells": [
    {
      "cell_type": "markdown",
      "metadata": {
        "id": "view-in-github",
        "colab_type": "text"
      },
      "source": [
        "<a href=\"https://colab.research.google.com/github/Muhammad-Usama-07/ComputerVision/blob/master/ComputerVisionWorkSolution.ipynb\" target=\"_parent\"><img src=\"https://colab.research.google.com/assets/colab-badge.svg\" alt=\"Open In Colab\"/></a>"
      ]
    },
    {
      "cell_type": "markdown",
      "source": [
        "# Save all images of video "
      ],
      "metadata": {
        "id": "uBBXzP2OFfYQ"
      }
    },
    {
      "cell_type": "code",
      "source": [
        "import cv2\n",
        "camera = cv2.VideoCapture(\"NewObjectDetector.mp4\")\n",
        "face_cascade = cv2.CascadeClassifier('haarcascades/haarcascade_frontalface_default.xml')\n",
        "counter = 0\n",
        "\n",
        "while camera.isOpened():\n",
        "    ret, frame = camera.read()\n",
        "    if ret:\n",
        "        \n",
        "        try:\n",
        "            image = cv2.resize(frame, (960, 540))\n",
        "            print(f'Saving Image No. {counter}')\n",
        "            cv2.imwrite(f'Data/{counter}.bmp', image)\n",
        "            if cv2.waitKey(1) & 0xFF == ord('q'):\n",
        "                break\n",
        "        except:\n",
        "            pass\n",
        "        counter +=1\n",
        "    else:\n",
        "        print('Frame not available')\n",
        "        break\n"
      ],
      "metadata": {
        "id": "zMUfPWxLFhvm"
      },
      "execution_count": null,
      "outputs": []
    },
    {
      "cell_type": "markdown",
      "source": [
        "# Access camera with opencv and tkinter "
      ],
      "metadata": {
        "id": "Ts5CSLsVOBiS"
      }
    },
    {
      "cell_type": "code",
      "source": [
        "# Import required Libraries\n",
        "from tkinter import *\n",
        "import tkinter.font as font\n",
        "from PIL import Image, ImageTk\n",
        "import cv2\n",
        "\n",
        "# Create an instance of TKinter Window or frame\n",
        "win = Tk()\n",
        "def quit():\n",
        "        win.destroy()\n",
        "\n",
        "# Create a Label to capture the Video frames\n",
        "label =Label(win)\n",
        "label.grid(row=0, column=0)\n",
        "cap= cv2.VideoCapture(0)\n",
        "\n",
        "# Define function to show frame\n",
        "def show_frames():\n",
        "   # Get the latest frame and convert into Image\n",
        "   cv2image= cv2.cvtColor(cap.read()[1],cv2.COLOR_BGR2RGB)\n",
        "   img = Image.fromarray(cv2image)\n",
        "   # Convert image to PhotoImage \n",
        "   imgtk = ImageTk.PhotoImage(image = img)\n",
        "   label.imgtk = imgtk\n",
        "   label.configure(image=imgtk)\n",
        "   # Repeat after an interval to capture continiously\n",
        "   label.after(20, show_frames)\n",
        "\n",
        "\n",
        "show_frames()\n",
        "\n",
        "\n",
        "myFont = font.Font(family='Helvetica', size=15)\n",
        "\n",
        "button = Button(win, text = 'Click and Quit',  font=myFont ,command=quit)\n",
        "button.place(relx = 0.4, rely = 0.9, anchor = CENTER)\n",
        "\n",
        "win.mainloop()\n",
        "\n",
        "\n",
        "\n"
      ],
      "metadata": {
        "id": "laPGkRGpOCSx"
      },
      "execution_count": null,
      "outputs": []
    }
  ]
}