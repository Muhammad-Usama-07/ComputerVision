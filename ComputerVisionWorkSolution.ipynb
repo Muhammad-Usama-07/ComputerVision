{
  "nbformat": 4,
  "nbformat_minor": 0,
  "metadata": {
    "colab": {
      "provenance": [],
      "toc_visible": true,
      "authorship_tag": "ABX9TyP/4xEwYpkMxNcIbmzACkYX",
      "include_colab_link": true
    },
    "kernelspec": {
      "name": "python3",
      "display_name": "Python 3"
    },
    "language_info": {
      "name": "python"
    }
  },
  "cells": [
    {
      "cell_type": "markdown",
      "metadata": {
        "id": "view-in-github",
        "colab_type": "text"
      },
      "source": [
        "<a href=\"https://colab.research.google.com/github/Muhammad-Usama-07/ComputerVision/blob/master/ComputerVisionWorkSolution.ipynb\" target=\"_parent\"><img src=\"https://colab.research.google.com/assets/colab-badge.svg\" alt=\"Open In Colab\"/></a>"
      ]
    },
    {
      "cell_type": "markdown",
      "source": [
        "# Save all images of video "
      ],
      "metadata": {
        "id": "uBBXzP2OFfYQ"
      }
    },
    {
      "cell_type": "code",
      "source": [
        "import cv2\n",
        "camera = cv2.VideoCapture(\"NewObjectDetector.mp4\")\n",
        "face_cascade = cv2.CascadeClassifier('haarcascades/haarcascade_frontalface_default.xml')\n",
        "counter = 0\n",
        "\n",
        "while camera.isOpened():\n",
        "    ret, frame = camera.read()\n",
        "    if ret:\n",
        "        \n",
        "        try:\n",
        "            image = cv2.resize(frame, (960, 540))\n",
        "            print(f'Saving Image No. {counter}')\n",
        "            cv2.imwrite(f'Data/{counter}.bmp', image)\n",
        "            if cv2.waitKey(1) & 0xFF == ord('q'):\n",
        "                break\n",
        "        except:\n",
        "            pass\n",
        "        counter +=1\n",
        "    else:\n",
        "        print('Frame not available')\n",
        "        break\n"
      ],
      "metadata": {
        "id": "zMUfPWxLFhvm"
      },
      "execution_count": null,
      "outputs": []
    }
  ]
}