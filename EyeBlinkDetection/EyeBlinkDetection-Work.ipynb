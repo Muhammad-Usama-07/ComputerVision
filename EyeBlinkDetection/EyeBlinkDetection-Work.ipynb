{
  "cells": [
    {
      "cell_type": "markdown",
      "source": [
        "# Libraries"
      ],
      "metadata": {
        "id": "9XWqVGnwSS2Y"
      },
      "id": "9XWqVGnwSS2Y"
    },
    {
      "cell_type": "code",
      "execution_count": 4,
      "id": "582d0ba8",
      "metadata": {
        "id": "582d0ba8"
      },
      "outputs": [],
      "source": [
        "import cv2 as cv \n",
        "import dlib \n",
        "from math import hypot"
      ]
    },
    {
      "cell_type": "code",
      "source": [
        "detector = dlib.get_frontal_face_detector()\n",
        "predictor = dlib.shape_predictor('shape_predictor_68_face_landmarks.dat')"
      ],
      "metadata": {
        "id": "eK-F8NFCVfhb"
      },
      "id": "eK-F8NFCVfhb",
      "execution_count": null,
      "outputs": []
    },
    {
      "cell_type": "code",
      "source": [
        "def midpoint(p1, p2):\n",
        "    return int((p1.x + p2.x)/2), int((p1.y + p2.y)/2)"
      ],
      "metadata": {
        "id": "rP8lpva_BB8Y"
      },
      "id": "rP8lpva_BB8Y",
      "execution_count": null,
      "outputs": []
    },
    {
      "cell_type": "code",
      "source": [
        ""
      ],
      "metadata": {
        "id": "p5-pfHQaBLQH"
      },
      "id": "p5-pfHQaBLQH",
      "execution_count": null,
      "outputs": []
    }
  ],
  "metadata": {
    "kernelspec": {
      "display_name": "Python 3 (ipykernel)",
      "language": "python",
      "name": "python3"
    },
    "language_info": {
      "codemirror_mode": {
        "name": "ipython",
        "version": 3
      },
      "file_extension": ".py",
      "mimetype": "text/x-python",
      "name": "python",
      "nbconvert_exporter": "python",
      "pygments_lexer": "ipython3",
      "version": "3.9.7"
    },
    "colab": {
      "name": "EyeBlinkDetection-Work.ipynb",
      "provenance": []
    }
  },
  "nbformat": 4,
  "nbformat_minor": 5
}