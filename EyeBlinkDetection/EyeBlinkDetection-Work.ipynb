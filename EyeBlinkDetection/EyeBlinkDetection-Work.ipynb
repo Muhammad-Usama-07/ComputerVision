{
  "cells": [
    {
      "cell_type": "markdown",
      "source": [
        "# Libraries"
      ],
      "metadata": {
        "id": "9XWqVGnwSS2Y"
      },
      "id": "9XWqVGnwSS2Y"
    },
    {
      "cell_type": "code",
      "execution_count": 4,
      "id": "582d0ba8",
      "metadata": {
        "id": "582d0ba8"
      },
      "outputs": [],
      "source": [
        "import cv2 as cv \n",
        "import dlib \n",
        "from math import hypot"
      ]
    },
    {
      "cell_type": "code",
      "source": [
        "detector = dlib.get_frontal_face_detector()\n",
        "predictor = dlib.shape_predictor('shape_predictor_68_face_landmarks.dat')"
      ],
      "metadata": {
        "id": "eK-F8NFCVfhb"
      },
      "id": "eK-F8NFCVfhb",
      "execution_count": null,
      "outputs": []
    },
    {
      "cell_type": "code",
      "source": [
        "def midpoint(p1, p2):\n",
        "    return int((p1.x + p2.x)/2), int((p1.y + p2.y)/2)\n",
        "font = cv.FONT_HERSHEY_PLAIN"
      ],
      "metadata": {
        "id": "rP8lpva_BB8Y"
      },
      "id": "rP8lpva_BB8Y",
      "execution_count": null,
      "outputs": []
    },
    {
      "cell_type": "code",
      "source": [
        "cap = cv.VideoCapture(0)\n",
        "while True:\n",
        "    _,frame = cap.read()\n",
        "    gray = cv.cvtColor(frame, cv.COLOR_BGR2GRAY)\n",
        "    \n",
        "    faces = detector(gray)\n",
        "    for face in faces:\n",
        "        x,y = face.left(), face.top()\n",
        "        x1,y1 = face.right(), face.bottom()\n",
        "        cv.rectangle(frame, (x,y), (x1,y1), (0, 200, 0),2)\n",
        "        \n",
        "        landmarks = predictor(gray, face)\n",
        "        left_point = (landmarks.part(36).x, landmarks.part(36).y)\n",
        "        right_point = (landmarks.part(39).x, landmarks.part(39).y)\n",
        "        center_top = midpoint(landmarks.part(37), landmarks.part(38))\n",
        "        center_bottom = midpoint(landmarks.part(41), landmarks.part(40))\n",
        "        \n",
        "        hor_line = cv.line(frame, left_point, right_point, (0, 255, 0), 2)\n",
        "        ver_line = cv.line(frame, center_top, center_bottom, (0, 255, 0), 2)\n",
        "        \n",
        "        hor_line_length = hypot(left_point[0] - right_point[0], left_point[1] - right_point[1])\n",
        "        ver_line_length = hypot(center_top[0] - center_bottom[0], center_top[1] - center_bottom[1])\n",
        "        \n",
        "        ratio = hor_line_length/ver_line_length\n",
        "        \n",
        "        if ratio > 4:\n",
        "        \n",
        "            cv.putText(frame, \"blinking\", (50, 150), font, 7, (255, 0, 0))\n",
        "        \n",
        "    cv.imshow('frame', frame)\n",
        "    if cv.waitKey(1) == ord('q'):\n",
        "        break\n",
        "cap.release()\n",
        "cv.destroyAllWindows()"
      ],
      "metadata": {
        "id": "p5-pfHQaBLQH"
      },
      "id": "p5-pfHQaBLQH",
      "execution_count": null,
      "outputs": []
    }
  ],
  "metadata": {
    "kernelspec": {
      "display_name": "Python 3 (ipykernel)",
      "language": "python",
      "name": "python3"
    },
    "language_info": {
      "codemirror_mode": {
        "name": "ipython",
        "version": 3
      },
      "file_extension": ".py",
      "mimetype": "text/x-python",
      "name": "python",
      "nbconvert_exporter": "python",
      "pygments_lexer": "ipython3",
      "version": "3.9.7"
    },
    "colab": {
      "name": "EyeBlinkDetection-Work.ipynb",
      "provenance": []
    }
  },
  "nbformat": 4,
  "nbformat_minor": 5
}