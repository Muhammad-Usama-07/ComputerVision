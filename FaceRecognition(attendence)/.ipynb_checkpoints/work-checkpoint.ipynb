{
 "cells": [
  {
   "cell_type": "markdown",
   "id": "9OxQOE42E35z",
   "metadata": {
    "id": "9OxQOE42E35z"
   },
   "source": [
    "# Only Face Recognition"
   ]
  },
  {
   "cell_type": "code",
   "execution_count": null,
   "id": "CMPAXMyEE6Nc",
   "metadata": {
    "id": "CMPAXMyEE6Nc"
   },
   "outputs": [],
   "source": [
    "face_cascade = cv2.CascadeClassifier('haarcascade_frontalface_default.xml')\n",
    "cap = cv2.VideoCapture(0)\n",
    "while cap.isOpened():\n",
    "    _, img = cap.read()\n",
    "    gray = cv2.cvtColor(img, cv2.COLOR_BGR2GRAY)\n",
    "    faces = face_cascade.detectMultiScale(gray, 1.1, 4)\n",
    "    for (x, y , w ,h) in faces:\n",
    "    \n",
    "        cv2.rectangle(img, (x,y), (x+w, y+h), (255, 0 , 0), 3)\n",
    "\n",
    "    cv2.imshow('img', img)\n",
    "    if cv2.waitKey(10) & 0xFF == ord('q'):\n",
    "        break\n",
    "\n",
    "cap.release()"
   ]
  },
  {
   "cell_type": "markdown",
   "id": "Ls4STJiAFc07",
   "metadata": {
    "id": "Ls4STJiAFc07"
   },
   "source": [
    "# Detect Forehead Area & Eyes"
   ]
  },
  {
   "cell_type": "code",
   "execution_count": null,
   "id": "gDhL2mDuFb6Q",
   "metadata": {
    "id": "gDhL2mDuFb6Q"
   },
   "outputs": [],
   "source": [
    "face_cascade = cv2.CascadeClassifier('haarcascade_frontalface_default.xml')\n",
    "cap = cv2.VideoCapture(0)\n",
    "count = 0\n",
    "while cap.isOpened():\n",
    "    _, img = cap.read()\n",
    "    gray = cv2.cvtColor(img, cv2.COLOR_BGR2GRAY)\n",
    "    faces = face_cascade.detectMultiScale(gray, 1.1, 4)\n",
    "    for (x, y , w ,h) in faces:\n",
    "        h2 = h-100\n",
    "        y2 = y + 30\n",
    "        cv2.rectangle(img, (x,y), (x+w, y2+h2), (255, 0 , 0), 3)\n",
    "    cv2.imshow('img', img)\n",
    "    if cv2.waitKey(10) & 0xFF == ord('q'):\n",
    "        break\n",
    "cap.release()"
   ]
  },
  {
   "cell_type": "markdown",
   "id": "aQ8W2JwOvxt-",
   "metadata": {
    "id": "aQ8W2JwOvxt-"
   },
   "source": [
    "# Save forehead & eyes area of images in a folder"
   ]
  },
  {
   "cell_type": "code",
   "execution_count": null,
   "id": "Nur_klaWwfmd",
   "metadata": {
    "id": "Nur_klaWwfmd"
   },
   "outputs": [],
   "source": [
    "face_cascade = cv2.CascadeClassifier('haarcascade_frontalface_default.xml')\n",
    "cap = cv2.VideoCapture(0)\n",
    "count = 0\n",
    "while cap.isOpened():\n",
    "    _, img = cap.read()\n",
    "    gray = cv2.cvtColor(img, cv2.COLOR_BGR2GRAY)\n",
    "    faces = face_cascade.detectMultiScale(gray, 1.1, 4)\n",
    "    for (x, y , w ,h) in faces:\n",
    "        h2 = h-100\n",
    "        y2 = y + 30\n",
    "        cv2.rectangle(img, (x,y), (x+w, y2+h2), (255, 0 , 0), 3)\n",
    "        roi_color = img[y:y2+h2, x:x+w]\n",
    "        cv2.imwrite('./folder_name/11.png',roi_color)    \n",
    "        \n",
    "    cv2.imshow('img', img)\n",
    "    if cv2.waitKey(10) & 0xFF == ord('q'):\n",
    "        break\n",
    "cap.release()"
   ]
  },
  {
   "cell_type": "markdown",
   "id": "1zBYNjc3F4oD",
   "metadata": {
    "id": "1zBYNjc3F4oD"
   },
   "source": [
    "# Eye Detction code 2 - Working - (Giving Better Result)"
   ]
  },
  {
   "cell_type": "code",
   "execution_count": null,
   "id": "OgKXDz4gF5ar",
   "metadata": {
    "id": "OgKXDz4gF5ar"
   },
   "outputs": [],
   "source": [
    "import cv2\n",
    "\n",
    "face_cascade = cv2.CascadeClassifier('haarcascade_frontalface_default.xml')\n",
    "eye_cascade = cv2.CascadeClassifier('haarcascade_eye_tree_eyeglasses.xml')\n",
    "cap = cv2.VideoCapture(0)\n",
    "while cap.isOpened():\n",
    "    _, img = cap.read()\n",
    "    gray = cv2.cvtColor(img, cv2.COLOR_BGR2GRAY)\n",
    "    faces = face_cascade.detectMultiScale(gray, 1.1, 4)\n",
    "\n",
    "    for (x, y , w ,h) in faces:\n",
    "        roi_gray = gray[y:y+h, x:x+w]\n",
    "        roi_color = img[y:y+h, x:x+w]\n",
    "        eyes = eye_cascade.detectMultiScale(roi_gray)\n",
    "    for (ex, ey ,ew, eh) in eyes:\n",
    "        roi_color2 = roi_color[ey:ey+eh, ex:ex+ew]\n",
    "\n",
    "        cv2.rectangle(roi_color, (ex,ey), (ex+ew, ey+eh), (0, 255, 0), 5)\n",
    "    \n",
    "    # Display the output\n",
    "    cv2.imshow('img', img)\n",
    "    if cv2.waitKey(10) & 0xFF == ord('q'):\n",
    "        break\n",
    "\n",
    "cap.release()"
   ]
  },
  {
   "cell_type": "markdown",
   "id": "coqKgSGZrVmY",
   "metadata": {
    "id": "coqKgSGZrVmY"
   },
   "source": [
    "# Collect face Data"
   ]
  },
  {
   "cell_type": "code",
   "execution_count": null,
   "id": "6af44dab",
   "metadata": {
    "id": "6af44dab"
   },
   "outputs": [],
   "source": [
    "import cv2\n",
    "\n",
    "face_cascade = cv2.CascadeClassifier('haarcascade_frontalface_default.xml')\n",
    "eye_cascade = cv2.CascadeClassifier('haarcascade_eye_tree_eyeglasses.xml')\n",
    "cap = cv2.VideoCapture(0)\n",
    "# biden_image = face_recognition.load_image_file(\"biden_obama.jpg\")\n",
    "while cap.isOpened():\n",
    "    _, img = cap.read()\n",
    "    gray = cv2.cvtColor(img, cv2.COLOR_BGR2GRAY)\n",
    "    faces = face_cascade.detectMultiScale(gray, 1.1, 4)\n",
    "\n",
    "    for (x, y , w ,h) in faces:\n",
    "        cv2.rectangle(img, (x,y), (x+w, y+h), (255, 0 , 0), 3)\n",
    "        roi_gray = gray[y:y+h, x:x+w]\n",
    "        roi_color = img[y:y+h, x:x+w]\n",
    "#         save image to specific folder\n",
    "        cv2.imwrite(\"./usama_data/new1.png\", roi_color)\n",
    "\n",
    "    cv2.imshow('img', img)\n",
    "    if cv2.waitKey(10) & 0xFF == ord('q'):\n",
    "        break\n",
    "\n",
    "cap.release()"
   ]
  }
 ],
 "metadata": {
  "colab": {
   "name": "work.ipynb",
   "provenance": []
  },
  "kernelspec": {
   "display_name": "Python 3",
   "language": "python",
   "name": "python3"
  },
  "language_info": {
   "codemirror_mode": {
    "name": "ipython",
    "version": 3
   },
   "file_extension": ".py",
   "mimetype": "text/x-python",
   "name": "python",
   "nbconvert_exporter": "python",
   "pygments_lexer": "ipython3",
   "version": "3.8.8"
  }
 },
 "nbformat": 4,
 "nbformat_minor": 5
}
