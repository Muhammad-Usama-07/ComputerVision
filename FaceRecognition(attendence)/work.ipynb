{
  "cells": [
    {
      "cell_type": "markdown",
      "source": [
        "# Collect face Data"
      ],
      "metadata": {
        "id": "coqKgSGZrVmY"
      },
      "id": "coqKgSGZrVmY"
    },
    {
      "cell_type": "code",
      "execution_count": 3,
      "id": "6af44dab",
      "metadata": {
        "id": "6af44dab"
      },
      "outputs": [],
      "source": [
        "import cv2\n",
        "\n",
        "face_cascade = cv2.CascadeClassifier('haarcascade_frontalface_default.xml')\n",
        "eye_cascade = cv2.CascadeClassifier('haarcascade_eye_tree_eyeglasses.xml')\n",
        "cap = cv2.VideoCapture(0)\n",
        "# biden_image = face_recognition.load_image_file(\"biden_obama.jpg\")\n",
        "while cap.isOpened():\n",
        "    _, img = cap.read()\n",
        "    gray = cv2.cvtColor(img, cv2.COLOR_BGR2GRAY)\n",
        "    faces = face_cascade.detectMultiScale(gray, 1.1, 4)\n",
        "\n",
        "    for (x, y , w ,h) in faces:\n",
        "        cv2.rectangle(img, (x,y), (x+w, y+h), (255, 0 , 0), 3)\n",
        "        roi_gray = gray[y:y+h, x:x+w]\n",
        "        roi_color = img[y:y+h, x:x+w]\n",
        "#         save image to specific folder\n",
        "        cv2.imwrite(\"./usama_data/new1.png\", roi_color)\n",
        "\n",
        "    cv2.imshow('img', img)\n",
        "    if cv2.waitKey(10) & 0xFF == ord('q'):\n",
        "        break\n",
        "\n",
        "cap.release()"
      ]
    },
    {
      "cell_type": "code",
      "source": [
        ""
      ],
      "metadata": {
        "id": "S1nlcnxKxdgZ"
      },
      "id": "S1nlcnxKxdgZ",
      "execution_count": null,
      "outputs": []
    }
  ],
  "metadata": {
    "kernelspec": {
      "display_name": "Python 3 (ipykernel)",
      "language": "python",
      "name": "python3"
    },
    "language_info": {
      "codemirror_mode": {
        "name": "ipython",
        "version": 3
      },
      "file_extension": ".py",
      "mimetype": "text/x-python",
      "name": "python",
      "nbconvert_exporter": "python",
      "pygments_lexer": "ipython3",
      "version": "3.9.7"
    },
    "colab": {
      "name": "work.ipynb",
      "provenance": []
    }
  },
  "nbformat": 4,
  "nbformat_minor": 5
}