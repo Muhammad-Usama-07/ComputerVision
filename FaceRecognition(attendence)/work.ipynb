{
  "cells": [
    {
      "cell_type": "markdown",
      "source": [
        "# Only Face Recognition"
      ],
      "metadata": {
        "id": "9OxQOE42E35z"
      },
      "id": "9OxQOE42E35z"
    },
    {
      "cell_type": "code",
      "source": [
        "face_cascade = cv2.CascadeClassifier('haarcascade_frontalface_default.xml')\n",
        "eye_cascade = cv2.CascadeClassifier('haarcascade_eye_tree_eyeglasses.xml')\n",
        "cap = cv2.VideoCapture(0)\n",
        "while cap.isOpened():\n",
        "    _, img = cap.read()\n",
        "    gray = cv2.cvtColor(img, cv2.COLOR_BGR2GRAY)\n",
        "    faces = face_cascade.detectMultiScale(gray, 1.1, 4)\n",
        "    for (x, y , w ,h) in faces:\n",
        "    \n",
        "        cv2.rectangle(img, (x,y), (x+w, y+h), (255, 0 , 0), 3)\n",
        "\n",
        "    cv2.imshow('img', img)\n",
        "    if cv2.waitKey(10) & 0xFF == ord('q'):\n",
        "        break\n",
        "\n",
        "cap.release()"
      ],
      "metadata": {
        "id": "CMPAXMyEE6Nc"
      },
      "id": "CMPAXMyEE6Nc",
      "execution_count": null,
      "outputs": []
    },
    {
      "cell_type": "markdown",
      "source": [
        "# Detect Forehead Area & Save Cropped image"
      ],
      "metadata": {
        "id": "Ls4STJiAFc07"
      },
      "id": "Ls4STJiAFc07"
    },
    {
      "cell_type": "code",
      "source": [
        "import cv2\n",
        "\n",
        "face_cascade = cv2.CascadeClassifier('haarcascade_frontalface_default.xml')\n",
        "eye_cascade = cv2.CascadeClassifier('haarcascade_eye_tree_eyeglasses.xml')\n",
        "cap = cv2.VideoCapture(0)\n",
        "# biden_image = face_recognition.load_image_file(\"biden_obama.jpg\")\n",
        "while cap.isOpened():\n",
        "    _, img = cap.read()\n",
        "    gray = cv2.cvtColor(img, cv2.COLOR_BGR2GRAY)\n",
        "    faces = face_cascade.detectMultiScale(gray, 1.1, 4)\n",
        "\n",
        "    for (x, y , w ,h) in faces:\n",
        "        h2 = h-90\n",
        "        y2 = y + 30\n",
        "        roi_color = img[y:y2+h2, x:x+w]\n",
        "        cv2.imwrite('./unknown/'+str(count)+'.png',roi_color)\n",
        "        cv2.rectangle(img, (x,y2), (x+w, y2+h2), (255, 0 , 0), 3)\n",
        "    cv2.imshow('img', img)\n",
        "    if cv2.waitKey(10) & 0xFF == ord('q'):\n",
        "        break\n",
        "\n",
        "cap.release()"
      ],
      "metadata": {
        "id": "gDhL2mDuFb6Q"
      },
      "id": "gDhL2mDuFb6Q",
      "execution_count": null,
      "outputs": []
    },
    {
      "cell_type": "markdown",
      "source": [
        "# Eye Detction code 2 - Working - (Giving Better Result)"
      ],
      "metadata": {
        "id": "1zBYNjc3F4oD"
      },
      "id": "1zBYNjc3F4oD"
    },
    {
      "cell_type": "code",
      "source": [
        "import cv2\n",
        "\n",
        "face_cascade = cv2.CascadeClassifier('haarcascade_frontalface_default.xml')\n",
        "eye_cascade = cv2.CascadeClassifier('haarcascade_eye_tree_eyeglasses.xml')\n",
        "cap = cv2.VideoCapture(0)\n",
        "while cap.isOpened():\n",
        "    _, img = cap.read()\n",
        "    gray = cv2.cvtColor(img, cv2.COLOR_BGR2GRAY)\n",
        "    faces = face_cascade.detectMultiScale(gray, 1.1, 4)\n",
        "\n",
        "    for (x, y , w ,h) in faces:\n",
        "        roi_gray = gray[y:y+h, x:x+w]\n",
        "        roi_color = img[y:y+h, x:x+w]\n",
        "        eyes = eye_cascade.detectMultiScale(roi_gray)\n",
        "    for (ex, ey ,ew, eh) in eyes:\n",
        "        roi_color2 = roi_color[ey:ey+eh, ex:ex+ew]\n",
        "\n",
        "        cv2.rectangle(roi_color, (ex,ey), (ex+ew, ey+eh), (0, 255, 0), 5)\n",
        "    \n",
        "    # Display the output\n",
        "    cv2.imshow('img', img)\n",
        "    if cv2.waitKey(10) & 0xFF == ord('q'):\n",
        "        break\n",
        "\n",
        "cap.release()"
      ],
      "metadata": {
        "id": "OgKXDz4gF5ar"
      },
      "id": "OgKXDz4gF5ar",
      "execution_count": null,
      "outputs": []
    },
    {
      "cell_type": "markdown",
      "source": [
        "# Collect face Data"
      ],
      "metadata": {
        "id": "coqKgSGZrVmY"
      },
      "id": "coqKgSGZrVmY"
    },
    {
      "cell_type": "code",
      "execution_count": null,
      "id": "6af44dab",
      "metadata": {
        "id": "6af44dab"
      },
      "outputs": [],
      "source": [
        "import cv2\n",
        "\n",
        "face_cascade = cv2.CascadeClassifier('haarcascade_frontalface_default.xml')\n",
        "eye_cascade = cv2.CascadeClassifier('haarcascade_eye_tree_eyeglasses.xml')\n",
        "cap = cv2.VideoCapture(0)\n",
        "# biden_image = face_recognition.load_image_file(\"biden_obama.jpg\")\n",
        "while cap.isOpened():\n",
        "    _, img = cap.read()\n",
        "    gray = cv2.cvtColor(img, cv2.COLOR_BGR2GRAY)\n",
        "    faces = face_cascade.detectMultiScale(gray, 1.1, 4)\n",
        "\n",
        "    for (x, y , w ,h) in faces:\n",
        "        cv2.rectangle(img, (x,y), (x+w, y+h), (255, 0 , 0), 3)\n",
        "        roi_gray = gray[y:y+h, x:x+w]\n",
        "        roi_color = img[y:y+h, x:x+w]\n",
        "#         save image to specific folder\n",
        "        cv2.imwrite(\"./usama_data/new1.png\", roi_color)\n",
        "\n",
        "    cv2.imshow('img', img)\n",
        "    if cv2.waitKey(10) & 0xFF == ord('q'):\n",
        "        break\n",
        "\n",
        "cap.release()"
      ]
    }
  ],
  "metadata": {
    "kernelspec": {
      "display_name": "Python 3 (ipykernel)",
      "language": "python",
      "name": "python3"
    },
    "language_info": {
      "codemirror_mode": {
        "name": "ipython",
        "version": 3
      },
      "file_extension": ".py",
      "mimetype": "text/x-python",
      "name": "python",
      "nbconvert_exporter": "python",
      "pygments_lexer": "ipython3",
      "version": "3.9.7"
    },
    "colab": {
      "name": "work.ipynb",
      "provenance": []
    }
  },
  "nbformat": 4,
  "nbformat_minor": 5
}