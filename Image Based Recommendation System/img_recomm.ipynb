{
 "cells": [
  {
   "cell_type": "code",
   "execution_count": 17,
   "id": "761c47a7-05e7-46d9-b0ad-42ea24073bb8",
   "metadata": {},
   "outputs": [
    {
     "name": "stdout",
     "output_type": "stream",
     "text": [
      "Collecting rembg\n",
      "  Using cached rembg-2.0.57-py3-none-any.whl.metadata (16 kB)\n",
      "Requirement already satisfied: jsonschema in d:\\python_enviroments\\gen_env_3.11.5\\lib\\site-packages (from rembg) (4.21.1)\n",
      "Requirement already satisfied: numpy in d:\\python_enviroments\\gen_env_3.11.5\\lib\\site-packages (from rembg) (1.26.4)\n",
      "Requirement already satisfied: onnxruntime in d:\\python_enviroments\\gen_env_3.11.5\\lib\\site-packages (from rembg) (1.17.3)\n",
      "Collecting opencv-python-headless (from rembg)\n",
      "  Using cached opencv_python_headless-4.9.0.80-cp37-abi3-win_amd64.whl.metadata (20 kB)\n",
      "Requirement already satisfied: pillow in d:\\python_enviroments\\gen_env_3.11.5\\lib\\site-packages (from rembg) (9.5.0)\n",
      "Collecting pooch (from rembg)\n",
      "  Using cached pooch-1.8.1-py3-none-any.whl.metadata (9.5 kB)\n",
      "Requirement already satisfied: pymatting in d:\\python_enviroments\\gen_env_3.11.5\\lib\\site-packages (from rembg) (1.1.12)\n",
      "Requirement already satisfied: scikit-image in d:\\python_enviroments\\gen_env_3.11.5\\lib\\site-packages (from rembg) (0.23.2)\n",
      "Requirement already satisfied: scipy in d:\\python_enviroments\\gen_env_3.11.5\\lib\\site-packages (from rembg) (1.12.0)\n",
      "Requirement already satisfied: tqdm in d:\\python_enviroments\\gen_env_3.11.5\\lib\\site-packages (from rembg) (4.66.2)\n",
      "Requirement already satisfied: attrs>=22.2.0 in d:\\python_enviroments\\gen_env_3.11.5\\lib\\site-packages (from jsonschema->rembg) (23.2.0)\n",
      "Requirement already satisfied: jsonschema-specifications>=2023.03.6 in d:\\python_enviroments\\gen_env_3.11.5\\lib\\site-packages (from jsonschema->rembg) (2023.12.1)\n",
      "Requirement already satisfied: referencing>=0.28.4 in d:\\python_enviroments\\gen_env_3.11.5\\lib\\site-packages (from jsonschema->rembg) (0.33.0)\n",
      "Requirement already satisfied: rpds-py>=0.7.1 in d:\\python_enviroments\\gen_env_3.11.5\\lib\\site-packages (from jsonschema->rembg) (0.18.0)\n",
      "Requirement already satisfied: coloredlogs in d:\\python_enviroments\\gen_env_3.11.5\\lib\\site-packages (from onnxruntime->rembg) (15.0.1)\n",
      "Requirement already satisfied: flatbuffers in d:\\python_enviroments\\gen_env_3.11.5\\lib\\site-packages (from onnxruntime->rembg) (24.3.25)\n",
      "Requirement already satisfied: packaging in d:\\python_enviroments\\gen_env_3.11.5\\lib\\site-packages (from onnxruntime->rembg) (23.2)\n",
      "Requirement already satisfied: protobuf in d:\\python_enviroments\\gen_env_3.11.5\\lib\\site-packages (from onnxruntime->rembg) (4.25.3)\n",
      "Requirement already satisfied: sympy in d:\\python_enviroments\\gen_env_3.11.5\\lib\\site-packages (from onnxruntime->rembg) (1.12)\n",
      "Requirement already satisfied: platformdirs>=2.5.0 in d:\\python_enviroments\\gen_env_3.11.5\\lib\\site-packages (from pooch->rembg) (4.2.0)\n",
      "Requirement already satisfied: requests>=2.19.0 in d:\\python_enviroments\\gen_env_3.11.5\\lib\\site-packages (from pooch->rembg) (2.31.0)\n",
      "Requirement already satisfied: numba!=0.49.0 in d:\\python_enviroments\\gen_env_3.11.5\\lib\\site-packages (from pymatting->rembg) (0.59.1)\n",
      "Requirement already satisfied: networkx>=2.8 in d:\\python_enviroments\\gen_env_3.11.5\\lib\\site-packages (from scikit-image->rembg) (3.2.1)\n",
      "Requirement already satisfied: imageio>=2.33 in d:\\python_enviroments\\gen_env_3.11.5\\lib\\site-packages (from scikit-image->rembg) (2.34.1)\n",
      "Requirement already satisfied: tifffile>=2022.8.12 in d:\\python_enviroments\\gen_env_3.11.5\\lib\\site-packages (from scikit-image->rembg) (2024.5.10)\n",
      "Requirement already satisfied: lazy-loader>=0.4 in d:\\python_enviroments\\gen_env_3.11.5\\lib\\site-packages (from scikit-image->rembg) (0.4)\n",
      "Requirement already satisfied: colorama in d:\\python_enviroments\\gen_env_3.11.5\\lib\\site-packages (from tqdm->rembg) (0.4.6)\n",
      "Requirement already satisfied: llvmlite<0.43,>=0.42.0dev0 in d:\\python_enviroments\\gen_env_3.11.5\\lib\\site-packages (from numba!=0.49.0->pymatting->rembg) (0.42.0)\n",
      "Requirement already satisfied: charset-normalizer<4,>=2 in d:\\python_enviroments\\gen_env_3.11.5\\lib\\site-packages (from requests>=2.19.0->pooch->rembg) (3.3.2)\n",
      "Requirement already satisfied: idna<4,>=2.5 in d:\\python_enviroments\\gen_env_3.11.5\\lib\\site-packages (from requests>=2.19.0->pooch->rembg) (3.6)\n",
      "Requirement already satisfied: urllib3<3,>=1.21.1 in d:\\python_enviroments\\gen_env_3.11.5\\lib\\site-packages (from requests>=2.19.0->pooch->rembg) (2.2.1)\n",
      "Requirement already satisfied: certifi>=2017.4.17 in d:\\python_enviroments\\gen_env_3.11.5\\lib\\site-packages (from requests>=2.19.0->pooch->rembg) (2024.2.2)\n",
      "Requirement already satisfied: humanfriendly>=9.1 in d:\\python_enviroments\\gen_env_3.11.5\\lib\\site-packages (from coloredlogs->onnxruntime->rembg) (10.0)\n",
      "Requirement already satisfied: mpmath>=0.19 in d:\\python_enviroments\\gen_env_3.11.5\\lib\\site-packages (from sympy->onnxruntime->rembg) (1.3.0)\n",
      "Requirement already satisfied: pyreadline3 in d:\\python_enviroments\\gen_env_3.11.5\\lib\\site-packages (from humanfriendly>=9.1->coloredlogs->onnxruntime->rembg) (3.4.1)\n",
      "Using cached rembg-2.0.57-py3-none-any.whl (33 kB)\n",
      "Using cached opencv_python_headless-4.9.0.80-cp37-abi3-win_amd64.whl (38.5 MB)\n",
      "Using cached pooch-1.8.1-py3-none-any.whl (62 kB)\n",
      "Installing collected packages: opencv-python-headless, pooch, rembg\n"
     ]
    },
    {
     "name": "stderr",
     "output_type": "stream",
     "text": [
      "ERROR: Could not install packages due to an OSError: [WinError 5] Access is denied: 'D:\\\\python_enviroments\\\\gen_env_3.11.5\\\\Lib\\\\site-packages\\\\cv2\\\\cv2.pyd'\n",
      "Check the permissions.\n",
      "\n"
     ]
    }
   ],
   "source": [
    "!pip install rembg"
   ]
  },
  {
   "cell_type": "code",
   "execution_count": 40,
   "id": "2fb76ee8-5e90-4d02-bb53-83008f30b4e8",
   "metadata": {},
   "outputs": [
    {
     "name": "stdout",
     "output_type": "stream",
     "text": [
      "Similarity Score:  -0.0\n"
     ]
    }
   ],
   "source": [
    "import cv2\n",
    "# Load images\n",
    "image1 = \"green-cap.png\"\n",
    "image2 = \"7.jpg\"\n",
    "image1 = cv2.imread(image1)\n",
    "image2 = cv2.imread(image2)\n",
    "hist_img1 = cv2.calcHist([image1], [0, 1, 2], None, [256, 256, 256], [0, 256, 0, 256, 0, 256])\n",
    "hist_img1[255, 255, 255] = 0 #ignore all white pixels\n",
    "cv2.normalize(hist_img1, hist_img1, alpha=0, beta=1, norm_type=cv2.NORM_MINMAX)\n",
    "hist_img2 = cv2.calcHist([image2], [0, 1, 2], None, [256, 256, 256], [0, 256, 0, 256, 0, 256])\n",
    "hist_img2[255, 255, 255] = 0  #ignore all white pixels\n",
    "cv2.normalize(hist_img2, hist_img2, alpha=0, beta=1, norm_type=cv2.NORM_MINMAX)\n",
    "# Find the metric value\n",
    "metric_val = cv2.compareHist(hist_img1, hist_img2, cv2.HISTCMP_CORREL)\n",
    "print(f\"Similarity Score: \", round(metric_val, 2))\n",
    "# Similarity Score: 0.94"
   ]
  },
  {
   "cell_type": "markdown",
   "id": "c426acd1-761b-423e-9937-f21c735ccb48",
   "metadata": {},
   "source": [
    "# Structural Similarity Index (SSIM)"
   ]
  },
  {
   "cell_type": "code",
   "execution_count": 43,
   "id": "28b0cc84-364c-4f3c-b1af-a26b64d160bb",
   "metadata": {},
   "outputs": [
    {
     "name": "stdout",
     "output_type": "stream",
     "text": [
      "(1080, 1080, 3) (1080, 1080, 3)\n",
      "SSIM Score:  0.54\n"
     ]
    }
   ],
   "source": [
    "import cv2\n",
    "from skimage import metrics\n",
    "# Load images\n",
    "image1 = \"pet-blue.png\"\n",
    "image2 = \"7.jpg\"\n",
    "\n",
    "image1 = cv2.imread(image1)\n",
    "image2 = cv2.imread(image2)\n",
    "image2 = cv2.resize(image2, (image1.shape[1], image1.shape[0]), interpolation = cv2.INTER_AREA)\n",
    "print(image1.shape, image2.shape)\n",
    "# Convert images to grayscale\n",
    "image1_gray = cv2.cvtColor(image1, cv2.COLOR_BGR2GRAY)\n",
    "image2_gray = cv2.cvtColor(image2, cv2.COLOR_BGR2GRAY)\n",
    "# Calculate SSIM\n",
    "ssim_score = metrics.structural_similarity(image1_gray, image2_gray, full=True)\n",
    "print(f\"SSIM Score: \", round(ssim_score[0], 2))\n",
    "# SSIM Score: 0.38"
   ]
  },
  {
   "cell_type": "code",
   "execution_count": 46,
   "id": "0518e429",
   "metadata": {},
   "outputs": [
    {
     "name": "stdout",
     "output_type": "stream",
     "text": [
      "(1080, 1080, 3) (1080, 1080, 3)\n",
      "SSIM Score:  0.54\n"
     ]
    }
   ],
   "source": [
    "import cv2\n",
    "from skimage import metrics\n",
    "# Load images\n",
    "image1 = \"pet-navy.png\"\n",
    "image2 = \"7.jpg\"\n",
    "\n",
    "image1 = cv2.imread(image1)\n",
    "image2 = cv2.imread(image2)\n",
    "image2 = cv2.resize(image2, (image1.shape[1], image1.shape[0]), interpolation = cv2.INTER_AREA)\n",
    "print(image1.shape, image2.shape)\n",
    "# Convert images to grayscale\n",
    "image1_gray = cv2.cvtColor(image1, cv2.COLOR_BGR2GRAY)\n",
    "image2_gray = cv2.cvtColor(image2, cv2.COLOR_BGR2GRAY)\n",
    "# Calculate SSIM\n",
    "ssim_score = metrics.structural_similarity(image1_gray, image2_gray, full=True)\n",
    "print(f\"SSIM Score: \", round(ssim_score[0], 2))\n",
    "# SSIM Score: 0.38"
   ]
  },
  {
   "cell_type": "code",
   "execution_count": 63,
   "id": "414ab439-e8ad-4bed-9825-0db900e4ad7f",
   "metadata": {},
   "outputs": [
    {
     "name": "stdout",
     "output_type": "stream",
     "text": [
      "Error: property 'mode' of 'JpegImageFile' object has no setter\n"
     ]
    }
   ],
   "source": [
    "from PIL import Image\n",
    "\n",
    "try:\n",
    "    # Use a different image file to test\n",
    "    img = Image.open('7.jpg').convert('RGB')\n",
    "    img.show()  # Display the image to verify it was loaded correctly\n",
    "except Exception as e:\n",
    "    print(f\"Error: {e}\")\n"
   ]
  },
  {
   "cell_type": "code",
   "execution_count": null,
   "id": "ef6afe33-1a95-4709-87bd-8b07466cd0f9",
   "metadata": {},
   "outputs": [],
   "source": []
  },
  {
   "cell_type": "code",
   "execution_count": 58,
   "id": "fae6dbc7-f600-4015-b998-3bb1f4274558",
   "metadata": {},
   "outputs": [
    {
     "ename": "AttributeError",
     "evalue": "property 'mode' of 'JpegImageFile' object has no setter",
     "output_type": "error",
     "traceback": [
      "\u001b[1;31m---------------------------------------------------------------------------\u001b[0m",
      "\u001b[1;31mAttributeError\u001b[0m                            Traceback (most recent call last)",
      "Cell \u001b[1;32mIn[58], line 6\u001b[0m\n\u001b[0;32m      2\u001b[0m \u001b[38;5;28;01mimport\u001b[39;00m \u001b[38;5;21;01mimagehash\u001b[39;00m\n\u001b[0;32m      3\u001b[0m \u001b[38;5;66;03m# hash0 = imagehash.average_hash(Image.open('7.jpeg'))\u001b[39;00m\n\u001b[0;32m      4\u001b[0m \u001b[38;5;66;03m# hash0 = imagehash.average_hash(Image.open('7.jpeg').convert('RGB')) \u001b[39;00m\n\u001b[0;32m      5\u001b[0m \u001b[38;5;66;03m# \u001b[39;00m\n\u001b[1;32m----> 6\u001b[0m \u001b[43mImage\u001b[49m\u001b[38;5;241;43m.\u001b[39;49m\u001b[43mopen\u001b[49m\u001b[43m(\u001b[49m\u001b[38;5;124;43m'\u001b[39;49m\u001b[38;5;124;43m./7.jpeg\u001b[39;49m\u001b[38;5;124;43m'\u001b[39;49m\u001b[43m)\u001b[49m\u001b[38;5;241m.\u001b[39mconvert(\u001b[38;5;124m'\u001b[39m\u001b[38;5;124mRGB\u001b[39m\u001b[38;5;124m'\u001b[39m)\n\u001b[0;32m      7\u001b[0m \u001b[38;5;66;03m# hash1 = imagehash.average_hash(Image.open('7.jpeg').convert('RGB')) \u001b[39;00m\n\u001b[0;32m      8\u001b[0m \u001b[38;5;66;03m# cutoff = 5  # maximum bits that could be different between the hashes. \u001b[39;00m\n\u001b[0;32m      9\u001b[0m \n\u001b[1;32m   (...)\u001b[0m\n\u001b[0;32m     12\u001b[0m \u001b[38;5;66;03m# else:\u001b[39;00m\n\u001b[0;32m     13\u001b[0m \u001b[38;5;66;03m#   print('images are not similar')\u001b[39;00m\n",
      "File \u001b[1;32mD:\\python_enviroments\\gen_env_3.11.5\\Lib\\site-packages\\PIL\\Image.py:3288\u001b[0m, in \u001b[0;36mopen\u001b[1;34m(fp, mode, formats)\u001b[0m\n\u001b[0;32m      0\u001b[0m <Error retrieving source code with stack_data see ipython/ipython#13598>\n",
      "File \u001b[1;32mD:\\python_enviroments\\gen_env_3.11.5\\Lib\\site-packages\\PIL\\Image.py:3274\u001b[0m, in \u001b[0;36m_open_core\u001b[1;34m(fp, filename, prefix, formats)\u001b[0m\n\u001b[0;32m   3272\u001b[0m         \u001b[38;5;28;01mif\u001b[39;00m exclusive_fp:\n\u001b[0;32m   3273\u001b[0m             fp\u001b[38;5;241m.\u001b[39mclose()\n\u001b[1;32m-> 3274\u001b[0m         \u001b[38;5;28;01mraise\u001b[39;00m\n\u001b[0;32m   3275\u001b[0m \u001b[38;5;28;01mreturn\u001b[39;00m \u001b[38;5;28;01mNone\u001b[39;00m\n",
      "File \u001b[1;32mD:\\python_enviroments\\gen_env_3.11.5\\Lib\\site-packages\\PIL\\JpegImagePlugin.py:822\u001b[0m, in \u001b[0;36mjpeg_factory\u001b[1;34m(fp, filename)\u001b[0m\n\u001b[0;32m    821\u001b[0m \u001b[38;5;28;01mdef\u001b[39;00m \u001b[38;5;21mjpeg_factory\u001b[39m(fp\u001b[38;5;241m=\u001b[39m\u001b[38;5;28;01mNone\u001b[39;00m, filename\u001b[38;5;241m=\u001b[39m\u001b[38;5;28;01mNone\u001b[39;00m):\n\u001b[1;32m--> 822\u001b[0m     im \u001b[38;5;241m=\u001b[39m \u001b[43mJpegImageFile\u001b[49m\u001b[43m(\u001b[49m\u001b[43mfp\u001b[49m\u001b[43m,\u001b[49m\u001b[43m \u001b[49m\u001b[43mfilename\u001b[49m\u001b[43m)\u001b[49m\n\u001b[0;32m    823\u001b[0m     \u001b[38;5;28;01mtry\u001b[39;00m:\n\u001b[0;32m    824\u001b[0m         mpheader \u001b[38;5;241m=\u001b[39m im\u001b[38;5;241m.\u001b[39m_getmp()\n",
      "File \u001b[1;32mD:\\python_enviroments\\gen_env_3.11.5\\Lib\\site-packages\\PIL\\ImageFile.py:117\u001b[0m, in \u001b[0;36mImageFile.__init__\u001b[1;34m(self, fp, filename)\u001b[0m\n\u001b[0;32m    115\u001b[0m \u001b[38;5;28;01mtry\u001b[39;00m:\n\u001b[0;32m    116\u001b[0m     \u001b[38;5;28;01mtry\u001b[39;00m:\n\u001b[1;32m--> 117\u001b[0m         \u001b[38;5;28;43mself\u001b[39;49m\u001b[38;5;241;43m.\u001b[39;49m\u001b[43m_open\u001b[49m\u001b[43m(\u001b[49m\u001b[43m)\u001b[49m\n\u001b[0;32m    118\u001b[0m     \u001b[38;5;28;01mexcept\u001b[39;00m (\n\u001b[0;32m    119\u001b[0m         \u001b[38;5;167;01mIndexError\u001b[39;00m,  \u001b[38;5;66;03m# end of data\u001b[39;00m\n\u001b[0;32m    120\u001b[0m         \u001b[38;5;167;01mTypeError\u001b[39;00m,  \u001b[38;5;66;03m# end of data (ord)\u001b[39;00m\n\u001b[1;32m   (...)\u001b[0m\n\u001b[0;32m    123\u001b[0m         struct\u001b[38;5;241m.\u001b[39merror,\n\u001b[0;32m    124\u001b[0m     ) \u001b[38;5;28;01mas\u001b[39;00m v:\n\u001b[0;32m    125\u001b[0m         \u001b[38;5;28;01mraise\u001b[39;00m \u001b[38;5;167;01mSyntaxError\u001b[39;00m(v) \u001b[38;5;28;01mfrom\u001b[39;00m \u001b[38;5;21;01mv\u001b[39;00m\n",
      "File \u001b[1;32mD:\\python_enviroments\\gen_env_3.11.5\\Lib\\site-packages\\PIL\\JpegImagePlugin.py:383\u001b[0m, in \u001b[0;36mJpegImageFile._open\u001b[1;34m(self)\u001b[0m\n\u001b[0;32m    381\u001b[0m name, description, handler \u001b[38;5;241m=\u001b[39m MARKER[i]\n\u001b[0;32m    382\u001b[0m \u001b[38;5;28;01mif\u001b[39;00m handler \u001b[38;5;129;01mis\u001b[39;00m \u001b[38;5;129;01mnot\u001b[39;00m \u001b[38;5;28;01mNone\u001b[39;00m:\n\u001b[1;32m--> 383\u001b[0m     \u001b[43mhandler\u001b[49m\u001b[43m(\u001b[49m\u001b[38;5;28;43mself\u001b[39;49m\u001b[43m,\u001b[49m\u001b[43m \u001b[49m\u001b[43mi\u001b[49m\u001b[43m)\u001b[49m\n\u001b[0;32m    384\u001b[0m \u001b[38;5;28;01mif\u001b[39;00m i \u001b[38;5;241m==\u001b[39m \u001b[38;5;241m0xFFDA\u001b[39m:  \u001b[38;5;66;03m# start of scan\u001b[39;00m\n\u001b[0;32m    385\u001b[0m     rawmode \u001b[38;5;241m=\u001b[39m \u001b[38;5;28mself\u001b[39m\u001b[38;5;241m.\u001b[39mmode\n",
      "File \u001b[1;32mD:\\python_enviroments\\gen_env_3.11.5\\Lib\\site-packages\\PIL\\JpegImagePlugin.py:214\u001b[0m, in \u001b[0;36mSOF\u001b[1;34m(self, marker)\u001b[0m\n\u001b[0;32m    212\u001b[0m     \u001b[38;5;28mself\u001b[39m\u001b[38;5;241m.\u001b[39mmode \u001b[38;5;241m=\u001b[39m \u001b[38;5;124m\"\u001b[39m\u001b[38;5;124mL\u001b[39m\u001b[38;5;124m\"\u001b[39m\n\u001b[0;32m    213\u001b[0m \u001b[38;5;28;01melif\u001b[39;00m \u001b[38;5;28mself\u001b[39m\u001b[38;5;241m.\u001b[39mlayers \u001b[38;5;241m==\u001b[39m \u001b[38;5;241m3\u001b[39m:\n\u001b[1;32m--> 214\u001b[0m     \u001b[38;5;28;43mself\u001b[39;49m\u001b[38;5;241;43m.\u001b[39;49m\u001b[43mmode\u001b[49m \u001b[38;5;241m=\u001b[39m \u001b[38;5;124m\"\u001b[39m\u001b[38;5;124mRGB\u001b[39m\u001b[38;5;124m\"\u001b[39m\n\u001b[0;32m    215\u001b[0m \u001b[38;5;28;01melif\u001b[39;00m \u001b[38;5;28mself\u001b[39m\u001b[38;5;241m.\u001b[39mlayers \u001b[38;5;241m==\u001b[39m \u001b[38;5;241m4\u001b[39m:\n\u001b[0;32m    216\u001b[0m     \u001b[38;5;28mself\u001b[39m\u001b[38;5;241m.\u001b[39mmode \u001b[38;5;241m=\u001b[39m \u001b[38;5;124m\"\u001b[39m\u001b[38;5;124mCMYK\u001b[39m\u001b[38;5;124m\"\u001b[39m\n",
      "\u001b[1;31mAttributeError\u001b[0m: property 'mode' of 'JpegImageFile' object has no setter"
     ]
    }
   ],
   "source": [
    "from PIL import Image\n",
    "import imagehash\n",
    "# hash0 = imagehash.average_hash(Image.open('7.jpeg'))\n",
    "# hash0 = imagehash.average_hash(Image.open('7.jpeg').convert('RGB')) \n",
    "# \n",
    "Image.open('7.jpeg').convert('RGB')\n",
    "# hash1 = imagehash.average_hash(Image.open('7.jpeg').convert('RGB')) \n",
    "# cutoff = 5  # maximum bits that could be different between the hashes. \n",
    "\n",
    "# if hash0 - hash1 < cutoff:\n",
    "#   print('images are similar')\n",
    "# else:\n",
    "#   print('images are not similar')"
   ]
  },
  {
   "cell_type": "code",
   "execution_count": null,
   "id": "30f66c7f-1f7f-4dbe-ad99-422e4a9c9ea8",
   "metadata": {},
   "outputs": [],
   "source": []
  },
  {
   "cell_type": "code",
   "execution_count": 3,
   "id": "9e79911a-0ca5-4753-b7d7-bdefe393ce7e",
   "metadata": {},
   "outputs": [
    {
     "name": "stdout",
     "output_type": "stream",
     "text": [
      "Collecting git+https://github.com/openai/CLIP.git\n",
      "  Cloning https://github.com/openai/CLIP.git to c:\\users\\usama\\appdata\\local\\temp\\pip-req-build-wjil7z81\n"
     ]
    },
    {
     "name": "stderr",
     "output_type": "stream",
     "text": [
      "  ERROR: Error [WinError 2] The system cannot find the file specified while executing command git version\n",
      "ERROR: Cannot find command 'git' - do you have 'git' installed and in your PATH?\n"
     ]
    },
    {
     "name": "stdout",
     "output_type": "stream",
     "text": [
      "Collecting open_clip_torch\n",
      "  Downloading open_clip_torch-2.24.0-py3-none-any.whl.metadata (30 kB)\n",
      "Requirement already satisfied: torch>=1.9.0 in d:\\python_enviroments\\gen_env_3.11.5\\lib\\site-packages (from open_clip_torch) (2.2.0)\n",
      "Requirement already satisfied: torchvision in d:\\python_enviroments\\gen_env_3.11.5\\lib\\site-packages (from open_clip_torch) (0.17.0)\n",
      "Requirement already satisfied: regex in d:\\python_enviroments\\gen_env_3.11.5\\lib\\site-packages (from open_clip_torch) (2023.12.25)\n",
      "Collecting ftfy (from open_clip_torch)\n",
      "  Downloading ftfy-6.2.0-py3-none-any.whl.metadata (7.3 kB)\n",
      "Requirement already satisfied: tqdm in d:\\python_enviroments\\gen_env_3.11.5\\lib\\site-packages (from open_clip_torch) (4.66.2)\n",
      "Requirement already satisfied: huggingface-hub in d:\\python_enviroments\\gen_env_3.11.5\\lib\\site-packages (from open_clip_torch) (0.21.4)\n",
      "Collecting sentencepiece (from open_clip_torch)\n",
      "  Downloading sentencepiece-0.2.0-cp311-cp311-win_amd64.whl.metadata (8.3 kB)\n",
      "Requirement already satisfied: protobuf in d:\\python_enviroments\\gen_env_3.11.5\\lib\\site-packages (from open_clip_torch) (4.25.3)\n",
      "Collecting timm (from open_clip_torch)\n",
      "  Downloading timm-1.0.3-py3-none-any.whl.metadata (43 kB)\n",
      "     ---------------------------------------- 0.0/43.6 kB ? eta -:--:--\n",
      "     ---------------------------------------- 0.0/43.6 kB ? eta -:--:--\n",
      "     --------- ------------------------------ 10.2/43.6 kB ? eta -:--:--\n",
      "     -------------------------- ----------- 30.7/43.6 kB 330.3 kB/s eta 0:00:01\n",
      "     -------------------------------------- 43.6/43.6 kB 358.4 kB/s eta 0:00:00\n",
      "Requirement already satisfied: filelock in d:\\python_enviroments\\gen_env_3.11.5\\lib\\site-packages (from torch>=1.9.0->open_clip_torch) (3.13.1)\n",
      "Requirement already satisfied: typing-extensions>=4.8.0 in d:\\python_enviroments\\gen_env_3.11.5\\lib\\site-packages (from torch>=1.9.0->open_clip_torch) (4.9.0)\n",
      "Requirement already satisfied: sympy in d:\\python_enviroments\\gen_env_3.11.5\\lib\\site-packages (from torch>=1.9.0->open_clip_torch) (1.12)\n",
      "Requirement already satisfied: networkx in d:\\python_enviroments\\gen_env_3.11.5\\lib\\site-packages (from torch>=1.9.0->open_clip_torch) (3.2.1)\n",
      "Requirement already satisfied: jinja2 in d:\\python_enviroments\\gen_env_3.11.5\\lib\\site-packages (from torch>=1.9.0->open_clip_torch) (3.1.3)\n",
      "Requirement already satisfied: fsspec in d:\\python_enviroments\\gen_env_3.11.5\\lib\\site-packages (from torch>=1.9.0->open_clip_torch) (2024.2.0)\n",
      "Requirement already satisfied: wcwidth<0.3.0,>=0.2.12 in d:\\python_enviroments\\gen_env_3.11.5\\lib\\site-packages (from ftfy->open_clip_torch) (0.2.13)\n",
      "Requirement already satisfied: requests in d:\\python_enviroments\\gen_env_3.11.5\\lib\\site-packages (from huggingface-hub->open_clip_torch) (2.31.0)\n",
      "Requirement already satisfied: pyyaml>=5.1 in d:\\python_enviroments\\gen_env_3.11.5\\lib\\site-packages (from huggingface-hub->open_clip_torch) (6.0.1)\n",
      "Requirement already satisfied: packaging>=20.9 in d:\\python_enviroments\\gen_env_3.11.5\\lib\\site-packages (from huggingface-hub->open_clip_torch) (23.2)\n",
      "Requirement already satisfied: colorama in d:\\python_enviroments\\gen_env_3.11.5\\lib\\site-packages (from tqdm->open_clip_torch) (0.4.6)\n",
      "Requirement already satisfied: safetensors in d:\\python_enviroments\\gen_env_3.11.5\\lib\\site-packages (from timm->open_clip_torch) (0.4.2)\n",
      "Requirement already satisfied: numpy in d:\\python_enviroments\\gen_env_3.11.5\\lib\\site-packages (from torchvision->open_clip_torch) (1.26.4)\n",
      "Requirement already satisfied: pillow!=8.3.*,>=5.3.0 in d:\\python_enviroments\\gen_env_3.11.5\\lib\\site-packages (from torchvision->open_clip_torch) (10.2.0)\n",
      "Requirement already satisfied: MarkupSafe>=2.0 in d:\\python_enviroments\\gen_env_3.11.5\\lib\\site-packages (from jinja2->torch>=1.9.0->open_clip_torch) (2.1.5)\n",
      "Requirement already satisfied: charset-normalizer<4,>=2 in d:\\python_enviroments\\gen_env_3.11.5\\lib\\site-packages (from requests->huggingface-hub->open_clip_torch) (3.3.2)\n",
      "Requirement already satisfied: idna<4,>=2.5 in d:\\python_enviroments\\gen_env_3.11.5\\lib\\site-packages (from requests->huggingface-hub->open_clip_torch) (3.6)\n",
      "Requirement already satisfied: urllib3<3,>=1.21.1 in d:\\python_enviroments\\gen_env_3.11.5\\lib\\site-packages (from requests->huggingface-hub->open_clip_torch) (2.2.1)\n",
      "Requirement already satisfied: certifi>=2017.4.17 in d:\\python_enviroments\\gen_env_3.11.5\\lib\\site-packages (from requests->huggingface-hub->open_clip_torch) (2024.2.2)\n",
      "Requirement already satisfied: mpmath>=0.19 in d:\\python_enviroments\\gen_env_3.11.5\\lib\\site-packages (from sympy->torch>=1.9.0->open_clip_torch) (1.3.0)\n",
      "Downloading open_clip_torch-2.24.0-py3-none-any.whl (1.5 MB)\n",
      "   ---------------------------------------- 0.0/1.5 MB ? eta -:--:--\n",
      "   ---------------------------------------- 0.0/1.5 MB ? eta -:--:--\n",
      "    --------------------------------------- 0.0/1.5 MB 640.0 kB/s eta 0:00:03\n",
      "   - -------------------------------------- 0.0/1.5 MB 487.6 kB/s eta 0:00:03\n",
      "   - -------------------------------------- 0.1/1.5 MB 544.7 kB/s eta 0:00:03\n",
      "   - -------------------------------------- 0.1/1.5 MB 435.7 kB/s eta 0:00:04\n",
      "   - -------------------------------------- 0.1/1.5 MB 435.7 kB/s eta 0:00:04\n",
      "   - -------------------------------------- 0.1/1.5 MB 435.7 kB/s eta 0:00:04\n",
      "   - -------------------------------------- 0.1/1.5 MB 435.7 kB/s eta 0:00:04\n",
      "   -- ------------------------------------- 0.1/1.5 MB 191.1 kB/s eta 0:00:08\n",
      "   -- ------------------------------------- 0.1/1.5 MB 226.4 kB/s eta 0:00:07\n",
      "   --- ------------------------------------ 0.1/1.5 MB 293.2 kB/s eta 0:00:05\n",
      "   ---- ----------------------------------- 0.2/1.5 MB 327.7 kB/s eta 0:00:05\n",
      "   ----- ---------------------------------- 0.2/1.5 MB 355.7 kB/s eta 0:00:04\n",
      "   ----- ---------------------------------- 0.2/1.5 MB 355.7 kB/s eta 0:00:04\n",
      "   ----- ---------------------------------- 0.2/1.5 MB 355.7 kB/s eta 0:00:04\n",
      "   ----- ---------------------------------- 0.2/1.5 MB 355.7 kB/s eta 0:00:04\n",
      "   ----- ---------------------------------- 0.2/1.5 MB 355.7 kB/s eta 0:00:04\n",
      "   ------ --------------------------------- 0.2/1.5 MB 275.0 kB/s eta 0:00:05\n",
      "   ------ --------------------------------- 0.3/1.5 MB 291.2 kB/s eta 0:00:05\n",
      "   ------- -------------------------------- 0.3/1.5 MB 310.3 kB/s eta 0:00:04\n",
      "   -------- ------------------------------- 0.3/1.5 MB 327.5 kB/s eta 0:00:04\n",
      "   --------- ------------------------------ 0.3/1.5 MB 343.5 kB/s eta 0:00:04\n",
      "   --------- ------------------------------ 0.3/1.5 MB 343.5 kB/s eta 0:00:04\n",
      "   --------- ------------------------------ 0.3/1.5 MB 343.5 kB/s eta 0:00:04\n",
      "   --------- ------------------------------ 0.3/1.5 MB 343.5 kB/s eta 0:00:04\n",
      "   --------- ------------------------------ 0.3/1.5 MB 288.3 kB/s eta 0:00:04\n",
      "   --------- ------------------------------ 0.4/1.5 MB 297.7 kB/s eta 0:00:04\n",
      "   ---------- ----------------------------- 0.4/1.5 MB 307.4 kB/s eta 0:00:04\n",
      "   ------------ --------------------------- 0.5/1.5 MB 335.4 kB/s eta 0:00:04\n",
      "   ------------- -------------------------- 0.5/1.5 MB 365.7 kB/s eta 0:00:03\n",
      "   --------------- ------------------------ 0.6/1.5 MB 414.8 kB/s eta 0:00:03\n",
      "   --------------- ------------------------ 0.6/1.5 MB 414.8 kB/s eta 0:00:03\n",
      "   --------------- ------------------------ 0.6/1.5 MB 414.8 kB/s eta 0:00:03\n",
      "   --------------- ------------------------ 0.6/1.5 MB 414.8 kB/s eta 0:00:03\n",
      "   ----------------- ---------------------- 0.6/1.5 MB 398.3 kB/s eta 0:00:03\n",
      "   ------------------- -------------------- 0.7/1.5 MB 436.8 kB/s eta 0:00:02\n",
      "   ---------------------- ----------------- 0.8/1.5 MB 485.3 kB/s eta 0:00:02\n",
      "   ------------------------ --------------- 0.9/1.5 MB 519.4 kB/s eta 0:00:02\n",
      "   --------------------------- ------------ 1.0/1.5 MB 580.4 kB/s eta 0:00:01\n",
      "   ------------------------------- -------- 1.2/1.5 MB 632.7 kB/s eta 0:00:01\n",
      "   ------------------------------- -------- 1.2/1.5 MB 633.1 kB/s eta 0:00:01\n",
      "   ------------------------------- -------- 1.2/1.5 MB 633.1 kB/s eta 0:00:01\n",
      "   ------------------------------- -------- 1.2/1.5 MB 633.1 kB/s eta 0:00:01\n",
      "   ----------------------------------- ---- 1.3/1.5 MB 655.2 kB/s eta 0:00:01\n",
      "   ---------------------------------------  1.5/1.5 MB 719.7 kB/s eta 0:00:01\n",
      "   ---------------------------------------- 1.5/1.5 MB 715.2 kB/s eta 0:00:00\n",
      "Downloading ftfy-6.2.0-py3-none-any.whl (54 kB)\n",
      "   ---------------------------------------- 0.0/54.4 kB ? eta -:--:--\n",
      "   ---------------------------------------- 54.4/54.4 kB ? eta 0:00:00\n",
      "Downloading sentencepiece-0.2.0-cp311-cp311-win_amd64.whl (991 kB)\n",
      "   ---------------------------------------- 0.0/991.5 kB ? eta -:--:--\n",
      "   --------------- ------------------------ 389.1/991.5 kB 8.1 MB/s eta 0:00:01\n",
      "   ----------------------------- ---------- 727.0/991.5 kB 7.7 MB/s eta 0:00:01\n",
      "   ---------------------------------------- 991.5/991.5 kB 7.9 MB/s eta 0:00:00\n",
      "Downloading timm-1.0.3-py3-none-any.whl (2.3 MB)\n",
      "   ---------------------------------------- 0.0/2.3 MB ? eta -:--:--\n",
      "   ------- -------------------------------- 0.5/2.3 MB 14.2 MB/s eta 0:00:01\n",
      "   --------------- ------------------------ 0.9/2.3 MB 11.6 MB/s eta 0:00:01\n",
      "   ------------------------ --------------- 1.4/2.3 MB 11.0 MB/s eta 0:00:01\n",
      "   -------------------------------- ------- 1.8/2.3 MB 10.7 MB/s eta 0:00:01\n",
      "   ---------------------------------- ----- 2.0/2.3 MB 10.5 MB/s eta 0:00:01\n",
      "   ---------------------------------- ----- 2.0/2.3 MB 10.5 MB/s eta 0:00:01\n",
      "   ---------------------------------- ----- 2.0/2.3 MB 10.5 MB/s eta 0:00:01\n",
      "   ---------------------------------- ----- 2.0/2.3 MB 10.5 MB/s eta 0:00:01\n",
      "   -------------------------------------- - 2.2/2.3 MB 5.4 MB/s eta 0:00:01\n",
      "   ---------------------------------------- 2.3/2.3 MB 5.4 MB/s eta 0:00:00\n",
      "Installing collected packages: sentencepiece, ftfy, timm, open_clip_torch\n",
      "Successfully installed ftfy-6.2.0 open_clip_torch-2.24.0 sentencepiece-0.2.0 timm-1.0.3\n",
      "Collecting sentence_transformers\n",
      "  Downloading sentence_transformers-2.7.0-py3-none-any.whl.metadata (11 kB)\n",
      "Requirement already satisfied: transformers<5.0.0,>=4.34.0 in d:\\python_enviroments\\gen_env_3.11.5\\lib\\site-packages (from sentence_transformers) (4.38.2)\n",
      "Requirement already satisfied: tqdm in d:\\python_enviroments\\gen_env_3.11.5\\lib\\site-packages (from sentence_transformers) (4.66.2)\n",
      "Requirement already satisfied: torch>=1.11.0 in d:\\python_enviroments\\gen_env_3.11.5\\lib\\site-packages (from sentence_transformers) (2.2.0)\n",
      "Requirement already satisfied: numpy in d:\\python_enviroments\\gen_env_3.11.5\\lib\\site-packages (from sentence_transformers) (1.26.4)\n",
      "Collecting scikit-learn (from sentence_transformers)\n",
      "  Downloading scikit_learn-1.5.0-cp311-cp311-win_amd64.whl.metadata (11 kB)\n",
      "Requirement already satisfied: scipy in d:\\python_enviroments\\gen_env_3.11.5\\lib\\site-packages (from sentence_transformers) (1.12.0)\n",
      "Requirement already satisfied: huggingface-hub>=0.15.1 in d:\\python_enviroments\\gen_env_3.11.5\\lib\\site-packages (from sentence_transformers) (0.21.4)\n",
      "Requirement already satisfied: Pillow in d:\\python_enviroments\\gen_env_3.11.5\\lib\\site-packages (from sentence_transformers) (10.2.0)\n",
      "Requirement already satisfied: filelock in d:\\python_enviroments\\gen_env_3.11.5\\lib\\site-packages (from huggingface-hub>=0.15.1->sentence_transformers) (3.13.1)\n",
      "Requirement already satisfied: fsspec>=2023.5.0 in d:\\python_enviroments\\gen_env_3.11.5\\lib\\site-packages (from huggingface-hub>=0.15.1->sentence_transformers) (2024.2.0)\n",
      "Requirement already satisfied: requests in d:\\python_enviroments\\gen_env_3.11.5\\lib\\site-packages (from huggingface-hub>=0.15.1->sentence_transformers) (2.31.0)\n",
      "Requirement already satisfied: pyyaml>=5.1 in d:\\python_enviroments\\gen_env_3.11.5\\lib\\site-packages (from huggingface-hub>=0.15.1->sentence_transformers) (6.0.1)\n",
      "Requirement already satisfied: typing-extensions>=3.7.4.3 in d:\\python_enviroments\\gen_env_3.11.5\\lib\\site-packages (from huggingface-hub>=0.15.1->sentence_transformers) (4.9.0)\n",
      "Requirement already satisfied: packaging>=20.9 in d:\\python_enviroments\\gen_env_3.11.5\\lib\\site-packages (from huggingface-hub>=0.15.1->sentence_transformers) (23.2)\n",
      "Requirement already satisfied: sympy in d:\\python_enviroments\\gen_env_3.11.5\\lib\\site-packages (from torch>=1.11.0->sentence_transformers) (1.12)\n",
      "Requirement already satisfied: networkx in d:\\python_enviroments\\gen_env_3.11.5\\lib\\site-packages (from torch>=1.11.0->sentence_transformers) (3.2.1)\n",
      "Requirement already satisfied: jinja2 in d:\\python_enviroments\\gen_env_3.11.5\\lib\\site-packages (from torch>=1.11.0->sentence_transformers) (3.1.3)\n",
      "Requirement already satisfied: colorama in d:\\python_enviroments\\gen_env_3.11.5\\lib\\site-packages (from tqdm->sentence_transformers) (0.4.6)\n",
      "Requirement already satisfied: regex!=2019.12.17 in d:\\python_enviroments\\gen_env_3.11.5\\lib\\site-packages (from transformers<5.0.0,>=4.34.0->sentence_transformers) (2023.12.25)\n",
      "Requirement already satisfied: tokenizers<0.19,>=0.14 in d:\\python_enviroments\\gen_env_3.11.5\\lib\\site-packages (from transformers<5.0.0,>=4.34.0->sentence_transformers) (0.15.2)\n",
      "Requirement already satisfied: safetensors>=0.4.1 in d:\\python_enviroments\\gen_env_3.11.5\\lib\\site-packages (from transformers<5.0.0,>=4.34.0->sentence_transformers) (0.4.2)\n",
      "Requirement already satisfied: joblib>=1.2.0 in d:\\python_enviroments\\gen_env_3.11.5\\lib\\site-packages (from scikit-learn->sentence_transformers) (1.3.2)\n",
      "Collecting threadpoolctl>=3.1.0 (from scikit-learn->sentence_transformers)\n",
      "  Downloading threadpoolctl-3.5.0-py3-none-any.whl.metadata (13 kB)\n",
      "Requirement already satisfied: MarkupSafe>=2.0 in d:\\python_enviroments\\gen_env_3.11.5\\lib\\site-packages (from jinja2->torch>=1.11.0->sentence_transformers) (2.1.5)\n",
      "Requirement already satisfied: charset-normalizer<4,>=2 in d:\\python_enviroments\\gen_env_3.11.5\\lib\\site-packages (from requests->huggingface-hub>=0.15.1->sentence_transformers) (3.3.2)\n",
      "Requirement already satisfied: idna<4,>=2.5 in d:\\python_enviroments\\gen_env_3.11.5\\lib\\site-packages (from requests->huggingface-hub>=0.15.1->sentence_transformers) (3.6)\n",
      "Requirement already satisfied: urllib3<3,>=1.21.1 in d:\\python_enviroments\\gen_env_3.11.5\\lib\\site-packages (from requests->huggingface-hub>=0.15.1->sentence_transformers) (2.2.1)\n",
      "Requirement already satisfied: certifi>=2017.4.17 in d:\\python_enviroments\\gen_env_3.11.5\\lib\\site-packages (from requests->huggingface-hub>=0.15.1->sentence_transformers) (2024.2.2)\n",
      "Requirement already satisfied: mpmath>=0.19 in d:\\python_enviroments\\gen_env_3.11.5\\lib\\site-packages (from sympy->torch>=1.11.0->sentence_transformers) (1.3.0)\n",
      "Downloading sentence_transformers-2.7.0-py3-none-any.whl (171 kB)\n",
      "   ---------------------------------------- 0.0/171.5 kB ? eta -:--:--\n",
      "   -- ------------------------------------- 10.2/171.5 kB ? eta -:--:--\n",
      "   ------ -------------------------------- 30.7/171.5 kB 660.6 kB/s eta 0:00:01\n",
      "   ------------- ------------------------- 61.4/171.5 kB 469.7 kB/s eta 0:00:01\n",
      "   ------------------------ ------------- 112.6/171.5 kB 656.4 kB/s eta 0:00:01\n",
      "   --------------------------- ---------- 122.9/171.5 kB 602.4 kB/s eta 0:00:01\n",
      "   -------------------------------------- 171.5/171.5 kB 736.3 kB/s eta 0:00:00\n",
      "Downloading scikit_learn-1.5.0-cp311-cp311-win_amd64.whl (11.0 MB)\n",
      "   ---------------------------------------- 0.0/11.0 MB ? eta -:--:--\n",
      "   ---------------------------------------- 0.1/11.0 MB 3.3 MB/s eta 0:00:04\n",
      "   ---------------------------------------- 0.1/11.0 MB 3.3 MB/s eta 0:00:04\n",
      "    --------------------------------------- 0.2/11.0 MB 1.6 MB/s eta 0:00:07\n",
      "    --------------------------------------- 0.2/11.0 MB 1.6 MB/s eta 0:00:07\n",
      "   - -------------------------------------- 0.3/11.0 MB 1.3 MB/s eta 0:00:09\n",
      "   - -------------------------------------- 0.5/11.0 MB 1.8 MB/s eta 0:00:06\n",
      "   - -------------------------------------- 0.5/11.0 MB 1.6 MB/s eta 0:00:07\n",
      "   --- ------------------------------------ 0.9/11.0 MB 2.4 MB/s eta 0:00:05\n",
      "   --- ------------------------------------ 1.1/11.0 MB 2.7 MB/s eta 0:00:04\n",
      "   ----- ---------------------------------- 1.5/11.0 MB 3.2 MB/s eta 0:00:03\n",
      "   ------- -------------------------------- 2.1/11.0 MB 4.0 MB/s eta 0:00:03\n",
      "   --------- ------------------------------ 2.5/11.0 MB 4.4 MB/s eta 0:00:02\n",
      "   ----------- ---------------------------- 3.0/11.0 MB 5.0 MB/s eta 0:00:02\n",
      "   ------------ --------------------------- 3.6/11.0 MB 5.4 MB/s eta 0:00:02\n",
      "   -------------- ------------------------- 4.1/11.0 MB 5.8 MB/s eta 0:00:02\n",
      "   ---------------- ----------------------- 4.6/11.0 MB 6.2 MB/s eta 0:00:02\n",
      "   ------------------ --------------------- 5.2/11.0 MB 6.5 MB/s eta 0:00:01\n",
      "   -------------------- ------------------- 5.7/11.0 MB 6.9 MB/s eta 0:00:01\n",
      "   --------------------- ------------------ 5.9/11.0 MB 7.0 MB/s eta 0:00:01\n",
      "   --------------------- ------------------ 5.9/11.0 MB 7.0 MB/s eta 0:00:01\n",
      "   --------------------- ------------------ 5.9/11.0 MB 7.0 MB/s eta 0:00:01\n",
      "   --------------------- ------------------ 5.9/11.0 MB 7.0 MB/s eta 0:00:01\n",
      "   --------------------- ------------------ 5.9/11.0 MB 7.0 MB/s eta 0:00:01\n",
      "   ---------------------- ----------------- 6.2/11.0 MB 5.6 MB/s eta 0:00:01\n",
      "   -------------------------- ------------- 7.2/11.0 MB 6.2 MB/s eta 0:00:01\n",
      "   ------------------------------ --------- 8.5/11.0 MB 7.0 MB/s eta 0:00:01\n",
      "   ----------------------------------- ---- 9.6/11.0 MB 7.8 MB/s eta 0:00:01\n",
      "   ---------------------------------------  11.0/11.0 MB 10.9 MB/s eta 0:00:01\n",
      "   ---------------------------------------- 11.0/11.0 MB 10.6 MB/s eta 0:00:00\n",
      "Downloading threadpoolctl-3.5.0-py3-none-any.whl (18 kB)\n",
      "Installing collected packages: threadpoolctl, scikit-learn, sentence_transformers\n",
      "Successfully installed scikit-learn-1.5.0 sentence_transformers-2.7.0 threadpoolctl-3.5.0\n"
     ]
    }
   ],
   "source": [
    "!pip install git+https://github.com/openai/CLIP.git\n",
    "!pip install open_clip_torch\n",
    "!pip install sentence_transformers"
   ]
  },
  {
   "cell_type": "code",
   "execution_count": 45,
   "id": "d4356ef4-3e8b-402e-b3a3-3e4dff9bde41",
   "metadata": {},
   "outputs": [
    {
     "name": "stdout",
     "output_type": "stream",
     "text": [
      "similarity Score:  25.02\n"
     ]
    }
   ],
   "source": [
    "\n",
    "\n",
    "import torch\n",
    "import open_clip\n",
    "import cv2\n",
    "from sentence_transformers import util\n",
    "from PIL import Image\n",
    "image1 = \"pet-blue.png\"\n",
    "image2 = \"7.jpg\"\n",
    "# image processing model\n",
    "device = \"cuda\" if torch.cuda.is_available() else \"cpu\"\n",
    "model, _, preprocess = open_clip.create_model_and_transforms('ViT-B-16-plus-240', pretrained=\"laion400m_e32\")\n",
    "model.to(device)\n",
    "def imageEncoder(img):\n",
    "    img1 = Image.fromarray(img).convert('RGB')\n",
    "    img1 = preprocess(img1).unsqueeze(0).to(device)\n",
    "    img1 = model.encode_image(img1)\n",
    "    return img1\n",
    "def generateScore(image1, image2):\n",
    "    test_img = cv2.imread(image1, cv2.IMREAD_UNCHANGED)\n",
    "    data_img = cv2.imread(image2, cv2.IMREAD_UNCHANGED)\n",
    "    img1 = imageEncoder(test_img)\n",
    "    img2 = imageEncoder(data_img)\n",
    "    cos_scores = util.pytorch_cos_sim(img1, img2)\n",
    "    score = round(float(cos_scores[0][0])*100, 2)\n",
    "    return score\n",
    "print(f\"similarity Score: \", round(generateScore(image1, image2), 2))\n",
    "#similarity Score: 76.77"
   ]
  },
  {
   "cell_type": "code",
   "execution_count": null,
   "id": "04936b0a-d4af-4955-ab11-0cb1f981ef65",
   "metadata": {},
   "outputs": [],
   "source": []
  },
  {
   "cell_type": "code",
   "execution_count": 67,
   "id": "37655488-e6fb-4694-b83f-43cd01bf3720",
   "metadata": {},
   "outputs": [],
   "source": [
    "# https://youtu.be/16s3Pi1InPU\n",
    "\"\"\"\n",
    "Comparing images using ORB/SIFT feature detectors\n",
    "and structural similarity index. \n",
    "\n",
    "@author: Sreenivas Bhattiprolu\n",
    "\"\"\"\n",
    "\n",
    "\n",
    "from skimage.metrics import structural_similarity\n",
    "import cv2\n",
    "\n",
    "#Works well with images of different dimensions\n",
    "def orb_sim(img1, img2):\n",
    "  # SIFT is no longer available in cv2 so using ORB\n",
    "  orb = cv2.ORB_create()\n",
    "\n",
    "  # detect keypoints and descriptors\n",
    "  kp_a, desc_a = orb.detectAndCompute(img1, None)\n",
    "  kp_b, desc_b = orb.detectAndCompute(img2, None)\n",
    "\n",
    "  # define the bruteforce matcher object\n",
    "  bf = cv2.BFMatcher(cv2.NORM_HAMMING, crossCheck=True)\n",
    "    \n",
    "  #perform matches. \n",
    "  matches = bf.match(desc_a, desc_b)\n",
    "  #Look for similar regions with distance < 50. Goes from 0 to 100 so pick a number between.\n",
    "  similar_regions = [i for i in matches if i.distance < 50]  \n",
    "  if len(matches) == 0:\n",
    "    return 0\n",
    "  return len(similar_regions) / len(matches)\n",
    "\n",
    "\n",
    "#Needs images to be same dimensions\n",
    "def structural_sim(img1, img2):\n",
    "\n",
    "  sim, diff = structural_similarity(img1, img2, full=True)\n",
    "  return sim\n",
    "\n",
    "img00 = cv2.imread('images/monkey_distorted.jpg', 0)\n",
    "img01 = cv2.imread('images/monkey_rotated.jpg', 0)\n",
    "\n",
    "img1 = cv2.imread('images/BSE.jpg', 0)  # 714 x 901 pixels\n",
    "img2 = cv2.imread('images/BSE_noisy.jpg', 0)  # 714 x 901 pixels\n",
    "img3 = cv2.imread('images/BSE_smoothed.jpg', 0)  # 203 x 256 pixels\n",
    "img4 = cv2.imread('images/different_img.jpg', 0)  # 203 x 256 pixels\n",
    "\n",
    "orb_similarity = orb_sim(img1, img3)  #1.0 means identical. Lower = not similar\n",
    "\n",
    "print(\"Similarity using ORB is: \", orb_similarity)\n",
    "#Resize for SSIM\n",
    "from skimage.transform import resize\n",
    "img5 = resize(img3, (img1.shape[0], img1.shape[1]), anti_aliasing=True, preserve_range=True)\n",
    "\n",
    "\n",
    "ssim = structural_sim(img1, img5) #1.0 means identical. Lower = not similar\n",
    "print(\"Similarity using SSIM is: \", ssim)"
   ]
  },
  {
   "cell_type": "code",
   "execution_count": 80,
   "id": "7f13e5c3-91b9-4c04-b6ec-1869d10b7f77",
   "metadata": {},
   "outputs": [],
   "source": [
    "img1 = cv2.imread('green-cap.png', 0)\n",
    "img2 = cv2.imread('3.jpg', 0)"
   ]
  },
  {
   "cell_type": "code",
   "execution_count": 81,
   "id": "ab6b37c5-b8d4-42f1-86bc-31864dc7e9b3",
   "metadata": {},
   "outputs": [
    {
     "name": "stdout",
     "output_type": "stream",
     "text": [
      "Similarity using ORB is:  0.007575757575757576\n"
     ]
    }
   ],
   "source": [
    "orb_similarity = orb_sim(img1, img2)  #1.0 means identical. Lower = not similar\n",
    "\n",
    "print(\"Similarity using ORB is: \", orb_similarity)"
   ]
  },
  {
   "cell_type": "code",
   "execution_count": 71,
   "id": "9c85519b-e14f-424a-8d06-3291c84f7e3d",
   "metadata": {},
   "outputs": [
    {
     "ename": "ValueError",
     "evalue": "Since image dtype is floating point, you must specify the data_range parameter. Please read the documentation carefully (including the note). It is recommended that you always specify the data_range anyway.",
     "output_type": "error",
     "traceback": [
      "\u001b[1;31m---------------------------------------------------------------------------\u001b[0m",
      "\u001b[1;31mValueError\u001b[0m                                Traceback (most recent call last)",
      "Cell \u001b[1;32mIn[71], line 3\u001b[0m\n\u001b[0;32m      1\u001b[0m \u001b[38;5;28;01mfrom\u001b[39;00m \u001b[38;5;21;01mskimage\u001b[39;00m\u001b[38;5;21;01m.\u001b[39;00m\u001b[38;5;21;01mtransform\u001b[39;00m \u001b[38;5;28;01mimport\u001b[39;00m resize\n\u001b[0;32m      2\u001b[0m img2 \u001b[38;5;241m=\u001b[39m resize(img2, (img1\u001b[38;5;241m.\u001b[39mshape[\u001b[38;5;241m0\u001b[39m], img1\u001b[38;5;241m.\u001b[39mshape[\u001b[38;5;241m1\u001b[39m]), anti_aliasing\u001b[38;5;241m=\u001b[39m\u001b[38;5;28;01mTrue\u001b[39;00m, preserve_range\u001b[38;5;241m=\u001b[39m\u001b[38;5;28;01mTrue\u001b[39;00m)\n\u001b[1;32m----> 3\u001b[0m ssim \u001b[38;5;241m=\u001b[39m \u001b[43mstructural_sim\u001b[49m\u001b[43m(\u001b[49m\u001b[43mimg1\u001b[49m\u001b[43m,\u001b[49m\u001b[43m \u001b[49m\u001b[43mimg2\u001b[49m\u001b[43m)\u001b[49m \u001b[38;5;66;03m#1.0 means identical. Lower = not similar\u001b[39;00m\n\u001b[0;32m      4\u001b[0m \u001b[38;5;28mprint\u001b[39m(\u001b[38;5;124m\"\u001b[39m\u001b[38;5;124mSimilarity using SSIM is: \u001b[39m\u001b[38;5;124m\"\u001b[39m, ssim)\n",
      "Cell \u001b[1;32mIn[67], line 37\u001b[0m, in \u001b[0;36mstructural_sim\u001b[1;34m(img1, img2)\u001b[0m\n\u001b[0;32m     35\u001b[0m \u001b[38;5;28;01mdef\u001b[39;00m \u001b[38;5;21mstructural_sim\u001b[39m(img1, img2):\n\u001b[1;32m---> 37\u001b[0m   sim, diff \u001b[38;5;241m=\u001b[39m \u001b[43mstructural_similarity\u001b[49m\u001b[43m(\u001b[49m\u001b[43mimg1\u001b[49m\u001b[43m,\u001b[49m\u001b[43m \u001b[49m\u001b[43mimg2\u001b[49m\u001b[43m,\u001b[49m\u001b[43m \u001b[49m\u001b[43mfull\u001b[49m\u001b[38;5;241;43m=\u001b[39;49m\u001b[38;5;28;43;01mTrue\u001b[39;49;00m\u001b[43m)\u001b[49m\n\u001b[0;32m     38\u001b[0m   \u001b[38;5;28;01mreturn\u001b[39;00m sim\n",
      "File \u001b[1;32mD:\\python_enviroments\\gen_env_3.11.5\\Lib\\site-packages\\skimage\\metrics\\_structural_similarity.py:204\u001b[0m, in \u001b[0;36mstructural_similarity\u001b[1;34m(im1, im2, win_size, gradient, data_range, channel_axis, gaussian_weights, full, **kwargs)\u001b[0m\n\u001b[0;32m    200\u001b[0m \u001b[38;5;28;01mif\u001b[39;00m data_range \u001b[38;5;129;01mis\u001b[39;00m \u001b[38;5;28;01mNone\u001b[39;00m:\n\u001b[0;32m    201\u001b[0m     \u001b[38;5;28;01mif\u001b[39;00m np\u001b[38;5;241m.\u001b[39missubdtype(im1\u001b[38;5;241m.\u001b[39mdtype, np\u001b[38;5;241m.\u001b[39mfloating) \u001b[38;5;129;01mor\u001b[39;00m np\u001b[38;5;241m.\u001b[39missubdtype(\n\u001b[0;32m    202\u001b[0m         im2\u001b[38;5;241m.\u001b[39mdtype, np\u001b[38;5;241m.\u001b[39mfloating\n\u001b[0;32m    203\u001b[0m     ):\n\u001b[1;32m--> 204\u001b[0m         \u001b[38;5;28;01mraise\u001b[39;00m \u001b[38;5;167;01mValueError\u001b[39;00m(\n\u001b[0;32m    205\u001b[0m             \u001b[38;5;124m'\u001b[39m\u001b[38;5;124mSince image dtype is floating point, you must specify \u001b[39m\u001b[38;5;124m'\u001b[39m\n\u001b[0;32m    206\u001b[0m             \u001b[38;5;124m'\u001b[39m\u001b[38;5;124mthe data_range parameter. Please read the documentation \u001b[39m\u001b[38;5;124m'\u001b[39m\n\u001b[0;32m    207\u001b[0m             \u001b[38;5;124m'\u001b[39m\u001b[38;5;124mcarefully (including the note). It is recommended that \u001b[39m\u001b[38;5;124m'\u001b[39m\n\u001b[0;32m    208\u001b[0m             \u001b[38;5;124m'\u001b[39m\u001b[38;5;124myou always specify the data_range anyway.\u001b[39m\u001b[38;5;124m'\u001b[39m\n\u001b[0;32m    209\u001b[0m         )\n\u001b[0;32m    210\u001b[0m     \u001b[38;5;28;01mif\u001b[39;00m im1\u001b[38;5;241m.\u001b[39mdtype \u001b[38;5;241m!=\u001b[39m im2\u001b[38;5;241m.\u001b[39mdtype:\n\u001b[0;32m    211\u001b[0m         warn(\n\u001b[0;32m    212\u001b[0m             \u001b[38;5;124m\"\u001b[39m\u001b[38;5;124mInputs have mismatched dtypes. Setting data_range based on im1.dtype.\u001b[39m\u001b[38;5;124m\"\u001b[39m,\n\u001b[0;32m    213\u001b[0m             stacklevel\u001b[38;5;241m=\u001b[39m\u001b[38;5;241m2\u001b[39m,\n\u001b[0;32m    214\u001b[0m         )\n",
      "\u001b[1;31mValueError\u001b[0m: Since image dtype is floating point, you must specify the data_range parameter. Please read the documentation carefully (including the note). It is recommended that you always specify the data_range anyway."
     ]
    }
   ],
   "source": [
    "from skimage.transform import resize\n",
    "img2 = resize(img2, (img1.shape[0], img1.shape[1]), anti_aliasing=True, preserve_range=True)\n",
    "ssim = structural_sim(img1, img2) #1.0 means identical. Lower = not similar\n",
    "print(\"Similarity using SSIM is: \", ssim)"
   ]
  },
  {
   "cell_type": "code",
   "execution_count": null,
   "id": "0349bdb9-e5ff-472e-9871-4eba08a1a50f",
   "metadata": {},
   "outputs": [],
   "source": [
    "from ultralytics import YOLO\n",
    "\n",
    "# Initialize a YOLO-World model\n",
    "model = YOLO(\"yolov8x-worldv2.pt\")  # or choose yolov8m/l-world.pt\n"
   ]
  },
  {
   "cell_type": "code",
   "execution_count": 9,
   "id": "4e16b0cc-5a57-4656-a565-9ebc3f42ecca",
   "metadata": {},
   "outputs": [
    {
     "name": "stdout",
     "output_type": "stream",
     "text": [
      "\n",
      "image 1/1 D:\\imageBaseRecommen\\4.jpg: 640x608 1 hat, 1285.9ms\n",
      "Speed: 4.0ms preprocess, 1285.9ms inference, 1.0ms postprocess per image at shape (1, 3, 640, 608)\n"
     ]
    }
   ],
   "source": [
    "\n",
    "# Define custom classes\n",
    "model.set_classes([\"dog\", \"hat\", \"collar belt\", \"cap\"])\n",
    "\n",
    "# Execute prediction for specified categories on an image\n",
    "results = model.predict(\"4.jpg\")\n",
    "\n",
    "# Show results\n",
    "results[0].show()"
   ]
  },
  {
   "cell_type": "code",
   "execution_count": null,
   "id": "79e11e39-1a63-498e-b725-e8acfb3d9bc0",
   "metadata": {},
   "outputs": [],
   "source": []
  }
 ],
 "metadata": {
  "kernelspec": {
   "display_name": "Python 3 (ipykernel)",
   "language": "python",
   "name": "python3"
  },
  "language_info": {
   "codemirror_mode": {
    "name": "ipython",
    "version": 3
   },
   "file_extension": ".py",
   "mimetype": "text/x-python",
   "name": "python",
   "nbconvert_exporter": "python",
   "pygments_lexer": "ipython3",
   "version": "3.10.0"
  }
 },
 "nbformat": 4,
 "nbformat_minor": 5
}
