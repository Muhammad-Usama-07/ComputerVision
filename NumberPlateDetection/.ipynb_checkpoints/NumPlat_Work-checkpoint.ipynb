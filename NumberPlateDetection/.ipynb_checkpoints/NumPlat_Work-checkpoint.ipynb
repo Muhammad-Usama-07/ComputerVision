{
 "cells": [
  {
   "cell_type": "markdown",
   "id": "Hh8cue7OB54r",
   "metadata": {
    "id": "Hh8cue7OB54r"
   },
   "source": [
    "# Using Necessary Libraries"
   ]
  },
  {
   "cell_type": "code",
   "execution_count": 1,
   "id": "28d95fc7",
   "metadata": {
    "id": "28d95fc7"
   },
   "outputs": [],
   "source": [
    "import pandas as pd\n",
    "import numpy  as np\n",
    "import cv2 as cv"
   ]
  },
  {
   "cell_type": "markdown",
   "id": "s7uF-NHgCcET",
   "metadata": {
    "id": "s7uF-NHgCcET"
   },
   "source": [
    "# Getting Cascade Classifier"
   ]
  },
  {
   "cell_type": "code",
   "execution_count": 2,
   "id": "cwwFKjD3_-AA",
   "metadata": {
    "id": "cwwFKjD3_-AA"
   },
   "outputs": [],
   "source": [
    "num_plat_class = cv.CascadeClassifier('../cascade/russian_number_plate.xml')"
   ]
  },
  {
   "cell_type": "markdown",
   "id": "PkAE5q7QDMWm",
   "metadata": {
    "id": "PkAE5q7QDMWm"
   },
   "source": [
    "# Detect Plate"
   ]
  },
  {
   "cell_type": "code",
   "execution_count": null,
   "id": "6zjb7KKhDRKB",
   "metadata": {
    "id": "6zjb7KKhDRKB"
   },
   "outputs": [],
   "source": [
    "img = cv.imread('Car-Number-Plate.jpg')\n",
    "gray = cv.cvtColor(img, cv.COLOR_BGR2GRAY) \n",
    "number = lic.detectMultiScale(img, 1.2) \n",
    "for (x,y,w,h) in number:\n",
    "    roi_gray = gray[y:y+h, x:x+w] \n",
    "    roi_color = img[y:y+h, x:x+w] \n",
    "    cv.rectangle(img, (x,y), (x+w,y+h), (0,255,0), 3)\n",
    "cv.imshow('sds', img)\n",
    "cv.waitKey(0)"
   ]
  }
 ],
 "metadata": {
  "colab": {
   "name": "NumPlat_Work.ipynb",
   "provenance": []
  },
  "kernelspec": {
   "display_name": "Python 3",
   "language": "python",
   "name": "python3"
  },
  "language_info": {
   "codemirror_mode": {
    "name": "ipython",
    "version": 3
   },
   "file_extension": ".py",
   "mimetype": "text/x-python",
   "name": "python",
   "nbconvert_exporter": "python",
   "pygments_lexer": "ipython3",
   "version": "3.8.8"
  }
 },
 "nbformat": 4,
 "nbformat_minor": 5
}
