{
  "cells": [
    {
      "cell_type": "markdown",
      "source": [
        "# Using Necessary Libraries"
      ],
      "metadata": {
        "id": "Hh8cue7OB54r"
      },
      "id": "Hh8cue7OB54r"
    },
    {
      "cell_type": "code",
      "execution_count": 1,
      "id": "28d95fc7",
      "metadata": {
        "id": "28d95fc7"
      },
      "outputs": [],
      "source": [
        "import pandas as pd\n",
        "import numpy  as np\n",
        "import cv2 as cv"
      ]
    },
    {
      "cell_type": "code",
      "source": [
        ""
      ],
      "metadata": {
        "id": "cwwFKjD3_-AA"
      },
      "id": "cwwFKjD3_-AA",
      "execution_count": null,
      "outputs": []
    }
  ],
  "metadata": {
    "kernelspec": {
      "display_name": "Python 3 (ipykernel)",
      "language": "python",
      "name": "python3"
    },
    "language_info": {
      "codemirror_mode": {
        "name": "ipython",
        "version": 3
      },
      "file_extension": ".py",
      "mimetype": "text/x-python",
      "name": "python",
      "nbconvert_exporter": "python",
      "pygments_lexer": "ipython3",
      "version": "3.9.7"
    },
    "colab": {
      "name": "NumPlat_Work.ipynb",
      "provenance": [],
      "toc_visible": true
    }
  },
  "nbformat": 4,
  "nbformat_minor": 5
}