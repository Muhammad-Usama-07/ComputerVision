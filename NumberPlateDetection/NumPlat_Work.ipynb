{
  "cells": [
    {
      "cell_type": "markdown",
      "source": [
        "# Using Necessary Libraries"
      ],
      "metadata": {
        "id": "Hh8cue7OB54r"
      },
      "id": "Hh8cue7OB54r"
    },
    {
      "cell_type": "code",
      "execution_count": 1,
      "id": "28d95fc7",
      "metadata": {
        "id": "28d95fc7"
      },
      "outputs": [],
      "source": [
        "import pandas as pd\n",
        "import numpy  as np\n",
        "import cv2 as cv"
      ]
    },
    {
      "cell_type": "markdown",
      "source": [
        "# Getting Cascade Classifier"
      ],
      "metadata": {
        "id": "s7uF-NHgCcET"
      },
      "id": "s7uF-NHgCcET"
    },
    {
      "cell_type": "code",
      "source": [
        "num_plat_class = cv.CascadeClassifier('russian_number_plate.xml')"
      ],
      "metadata": {
        "id": "cwwFKjD3_-AA"
      },
      "id": "cwwFKjD3_-AA",
      "execution_count": null,
      "outputs": []
    },
    {
      "cell_type": "markdown",
      "source": [
        "# Detect Plate"
      ],
      "metadata": {
        "id": "PkAE5q7QDMWm"
      },
      "id": "PkAE5q7QDMWm"
    },
    {
      "cell_type": "code",
      "source": [
        "img = cv.imread('Car-Number-Plate.jpg')\n",
        "gray = cv.cvtColor(img, cv.COLOR_BGR2GRAY) \n",
        "number = lic.detectMultiScale(img, 1.2) \n",
        "for (x,y,w,h) in number:\n",
        "    roi_gray = gray[y:y+h, x:x+w] \n",
        "    roi_color = img[y:y+h, x:x+w] \n",
        "    cv.rectangle(img, (x,y), (x+w,y+h), (0,255,0), 3)\n",
        "cv.imshow('sds', img)\n",
        "cv.waitKey(0)"
      ],
      "metadata": {
        "id": "6zjb7KKhDRKB"
      },
      "id": "6zjb7KKhDRKB",
      "execution_count": null,
      "outputs": []
    }
  ],
  "metadata": {
    "kernelspec": {
      "display_name": "Python 3 (ipykernel)",
      "language": "python",
      "name": "python3"
    },
    "language_info": {
      "codemirror_mode": {
        "name": "ipython",
        "version": 3
      },
      "file_extension": ".py",
      "mimetype": "text/x-python",
      "name": "python",
      "nbconvert_exporter": "python",
      "pygments_lexer": "ipython3",
      "version": "3.9.7"
    },
    "colab": {
      "name": "NumPlat_Work.ipynb",
      "provenance": []
    }
  },
  "nbformat": 4,
  "nbformat_minor": 5
}