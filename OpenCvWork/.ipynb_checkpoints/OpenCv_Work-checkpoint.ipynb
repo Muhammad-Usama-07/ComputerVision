{
 "cells": [
  {
   "cell_type": "markdown",
   "id": "318c075f",
   "metadata": {},
   "source": [
    "# Using Necessary Libraries "
   ]
  },
  {
   "cell_type": "code",
   "execution_count": 1,
   "id": "521f2edd",
   "metadata": {},
   "outputs": [],
   "source": [
    "import cv2 as cv \n",
    "import pandas as pd \n",
    "import numpy as np"
   ]
  },
  {
   "cell_type": "markdown",
   "id": "84340697",
   "metadata": {},
   "source": [
    "## Read Image (using cv)"
   ]
  },
  {
   "cell_type": "markdown",
   "id": "17b3fba4",
   "metadata": {},
   "source": [
    "#### Cell Details:\n",
    "cv.waitKey(0) => wait window for infnite time to close the window (until user close)"
   ]
  },
  {
   "cell_type": "code",
   "execution_count": 11,
   "id": "d3d6b1ee",
   "metadata": {},
   "outputs": [
    {
     "data": {
      "text/plain": [
       "-1"
      ]
     },
     "execution_count": 11,
     "metadata": {},
     "output_type": "execute_result"
    }
   ],
   "source": [
    "img = cv.imread(r'F:\\AI&DS\\ComputerVision\\OpenCvWork\\Data\\Photos\\eagle.jpg')\n",
    "cv.imshow('Lady', img)\n",
    "cv.waitKey(0)"
   ]
  },
  {
   "cell_type": "markdown",
   "id": "e9cc9ea9",
   "metadata": {},
   "source": [
    "## Read video (using cv)"
   ]
  },
  {
   "cell_type": "markdown",
   "id": "166a8ec4",
   "metadata": {},
   "source": [
    "1. frame => Read video from frame by frame\n",
    "2. isTrue => Says wheter the frame was succesfully read in or not"
   ]
  },
  {
   "cell_type": "code",
   "execution_count": 6,
   "id": "4be4457e",
   "metadata": {},
   "outputs": [],
   "source": [
    "video = cv.VideoCapture('Data//Videos//kitten.mp4')\n",
    "while True:\n",
    "    isTrue, frame = video.read()\n",
    "    cv.imshow('vid',frame)\n",
    "    if cv.waitKey(20) & 0xff == ord('q'):\n",
    "        break\n",
    "video.release()\n",
    "cv.destroyAllWindows()"
   ]
  },
  {
   "cell_type": "markdown",
   "id": "94f52f40",
   "metadata": {},
   "source": [
    "## Rescalnig image frame (using cv)"
   ]
  },
  {
   "cell_type": "markdown",
   "id": "5fd97836",
   "metadata": {},
   "source": [
    "##### Rescaling Function Details:\n",
    "\n",
    "1. frame.shape[1] => frame width\n",
    "2. frame.shape[0] => frame height\n",
    "3. scale = 0.75 => is a default value\n"
   ]
  },
  {
   "cell_type": "code",
   "execution_count": 8,
   "id": "24db8bdc",
   "metadata": {},
   "outputs": [],
   "source": [
    "# Function that resize frame \n",
    "def rescaleFrame(frame, scale = 0.75):\n",
    "    width = int(frame.shape[1] * scale)\n",
    "    height = int(frame.shape[0] * scale)\n",
    "    dimensions = (width, height)\n",
    "    return cv.resize(frame, dimensions, interpolation = cv.INTER_AREA)"
   ]
  },
  {
   "cell_type": "code",
   "execution_count": 7,
   "id": "9260ce97",
   "metadata": {},
   "outputs": [
    {
     "data": {
      "text/plain": [
       "-1"
      ]
     },
     "execution_count": 7,
     "metadata": {},
     "output_type": "execute_result"
    }
   ],
   "source": [
    "img = cv.imread(r'F:\\AI&DS\\ComputerVision\\OpenCvWork\\Data\\Photos\\eagle.jpg')\n",
    "# dislpaying orignal image\n",
    "cv.imshow('eagle', img)\n",
    "\n",
    "# dislpaying rescaled image\n",
    "rescaled_img = rescaleFrame(img)\n",
    "cv.imshow('resized eagle', rescaled_img)\n",
    "    \n",
    "cv.waitKey(0)"
   ]
  },
  {
   "cell_type": "markdown",
   "id": "9c0d7776",
   "metadata": {},
   "source": [
    "## Rescalnig video frame (using cv)"
   ]
  },
  {
   "cell_type": "code",
   "execution_count": 10,
   "id": "be2a27c5",
   "metadata": {},
   "outputs": [],
   "source": [
    "video = cv.VideoCapture('Data//Videos//kitten.mp4')\n",
    "while True:\n",
    "    isTrue, frame = video.read()\n",
    "    cv.imshow('vid',frame)\n",
    "    rescaled_video = rescaleFrame(frame)\n",
    "    cv.imshow('rescaledvideo',rescaled_video)\n",
    "    \n",
    "    if cv.waitKey(20) & 0xff == ord('q'):\n",
    "        break\n",
    "video.release()\n",
    "cv.destroyAllWindows()"
   ]
  },
  {
   "cell_type": "markdown",
   "id": "9571cc38",
   "metadata": {},
   "source": [
    "## Converting image to gray scale (using cv)"
   ]
  },
  {
   "cell_type": "code",
   "execution_count": 12,
   "id": "a665206a",
   "metadata": {},
   "outputs": [
    {
     "data": {
      "text/plain": [
       "-1"
      ]
     },
     "execution_count": 12,
     "metadata": {},
     "output_type": "execute_result"
    }
   ],
   "source": [
    "img = cv.imread(r'F:\\AI&DS\\ComputerVision\\OpenCvWork\\Data\\Photos\\eagle.jpg')\n",
    "# orignal image\n",
    "cv.imshow('eagle', img)\n",
    "\n",
    "# gray scale image \n",
    "gray = cv.cvtColor(img, cv.COLOR_BGR2GRAY)\n",
    "cv.imshow('eagleGray', gray)\n",
    "\n",
    "cv.waitKey(0)"
   ]
  },
  {
   "cell_type": "markdown",
   "id": "2efd1c79",
   "metadata": {},
   "source": [
    "## Blurring image (using cv)"
   ]
  },
  {
   "cell_type": "markdown",
   "id": "321e4e23",
   "metadata": {},
   "source": [
    "(3,3) => kernal size, increase in value increase blurriness"
   ]
  },
  {
   "cell_type": "code",
   "execution_count": 15,
   "id": "8d0a0b76",
   "metadata": {},
   "outputs": [
    {
     "data": {
      "text/plain": [
       "-1"
      ]
     },
     "execution_count": 15,
     "metadata": {},
     "output_type": "execute_result"
    }
   ],
   "source": [
    "img = cv.imread(r'F:\\AI&DS\\ComputerVision\\OpenCvWork\\Data\\Photos\\eagle.jpg')\n",
    "# orignal image\n",
    "cv.imshow('eagle', img)\n",
    "\n",
    "# blur scale image \n",
    "blur = cv.GaussianBlur(img, (3,3) ,cv.BORDER_DEFAULT)\n",
    "cv.imshow('eagleBlur', blur)\n",
    "\n",
    "cv.waitKey(0)"
   ]
  },
  {
   "cell_type": "markdown",
   "id": "36705545",
   "metadata": {},
   "source": [
    "## Finding image edges (using cv)"
   ]
  },
  {
   "cell_type": "code",
   "execution_count": 18,
   "id": "776c12ab",
   "metadata": {},
   "outputs": [
    {
     "data": {
      "text/plain": [
       "-1"
      ]
     },
     "execution_count": 18,
     "metadata": {},
     "output_type": "execute_result"
    }
   ],
   "source": [
    "img = cv.imread(r'F:\\AI&DS\\ComputerVision\\OpenCvWork\\Data\\Photos\\eagle.jpg')\n",
    "# orignal image\n",
    "cv.imshow('eagle', img)\n",
    "\n",
    "# blur scale image \n",
    "blur = cv.GaussianBlur(img, (3,3) ,cv.BORDER_DEFAULT)\n",
    "cv.imshow('eagleBlur', blur)\n",
    "\n",
    "# Edge cascade image\n",
    "edge = cv.Canny(img, 125,175)\n",
    "cv.imshow('eagleEdge', edge)\n",
    "\n",
    "# For Reducing Extra edges use blur image\n",
    "edge = cv.Canny(blur, 125,175)\n",
    "cv.imshow('eagleEdge2', edge)\n",
    "\n",
    "cv.waitKey(0)"
   ]
  },
  {
   "cell_type": "code",
   "execution_count": null,
   "id": "b9ebcd09",
   "metadata": {},
   "outputs": [],
   "source": []
  }
 ],
 "metadata": {
  "kernelspec": {
   "display_name": "Python 3",
   "language": "python",
   "name": "python3"
  },
  "language_info": {
   "codemirror_mode": {
    "name": "ipython",
    "version": 3
   },
   "file_extension": ".py",
   "mimetype": "text/x-python",
   "name": "python",
   "nbconvert_exporter": "python",
   "pygments_lexer": "ipython3",
   "version": "3.8.8"
  }
 },
 "nbformat": 4,
 "nbformat_minor": 5
}
