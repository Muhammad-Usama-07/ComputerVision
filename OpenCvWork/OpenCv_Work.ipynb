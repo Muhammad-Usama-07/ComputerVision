{
 "cells": [
  {
   "cell_type": "markdown",
   "id": "318c075f",
   "metadata": {},
   "source": [
    "# Using Necessary Libraries "
   ]
  },
  {
   "cell_type": "code",
   "execution_count": 1,
   "id": "521f2edd",
   "metadata": {},
   "outputs": [],
   "source": [
    "import cv2 as cv \n",
    "import pandas as pd \n",
    "import numpy as np"
   ]
  },
  {
   "cell_type": "markdown",
   "id": "84340697",
   "metadata": {},
   "source": [
    "## Read Image (using cv)"
   ]
  },
  {
   "cell_type": "markdown",
   "id": "17b3fba4",
   "metadata": {},
   "source": [
    "#### Cell Details:\n",
    "cv.waitKey(0) => wait window for infnite time to close the window (until user close)"
   ]
  },
  {
   "cell_type": "code",
   "execution_count": 11,
   "id": "d3d6b1ee",
   "metadata": {},
   "outputs": [
    {
     "data": {
      "text/plain": [
       "-1"
      ]
     },
     "execution_count": 11,
     "metadata": {},
     "output_type": "execute_result"
    }
   ],
   "source": [
    "img = cv.imread(r'F:\\AI&DS\\ComputerVision\\OpenCvWork\\Data\\Photos\\eagle.jpg')\n",
    "cv.imshow('Lady', img)\n",
    "cv.waitKey(0)"
   ]
  },
  {
   "cell_type": "markdown",
   "id": "e9cc9ea9",
   "metadata": {},
   "source": [
    "## Read video (using cv)"
   ]
  },
  {
   "cell_type": "markdown",
   "id": "166a8ec4",
   "metadata": {},
   "source": [
    "1. frame => Read video from frame by frame\n",
    "2. isTrue => Says wheter the frame was succesfully read in or not"
   ]
  },
  {
   "cell_type": "code",
   "execution_count": 6,
   "id": "4be4457e",
   "metadata": {},
   "outputs": [],
   "source": [
    "video = cv.VideoCapture('Data//Videos//kitten.mp4')\n",
    "while True:\n",
    "    isTrue, frame = video.read()\n",
    "    cv.imshow('vid',frame)\n",
    "    if cv.waitKey(20) & 0xff == ord('q'):\n",
    "        break\n",
    "video.release()\n",
    "cv.destroyAllWindows()"
   ]
  },
  {
   "cell_type": "markdown",
   "id": "94f52f40",
   "metadata": {},
   "source": [
    "## Rescalnig image frame (using cv)"
   ]
  },
  {
   "cell_type": "markdown",
   "id": "8669491f",
   "metadata": {},
   "source": [
    "##### Rescaling Function Details:\n",
    "\n",
    "1. frame.shape[1] => frame width\n",
    "2. frame.shape[0] => frame height\n",
    "3. scale = 0.75 => is a default value\n"
   ]
  },
  {
   "cell_type": "code",
   "execution_count": 8,
   "id": "962a7bff",
   "metadata": {},
   "outputs": [],
   "source": [
    "# Function that resize frame \n",
    "def rescaleFrame(frame, scale = 0.75):\n",
    "    width = int(frame.shape[1] * scale)\n",
    "    height = int(frame.shape[0] * scale)\n",
    "    dimensions = (width, height)\n",
    "    return cv.resize(frame, dimensions, interpolation = cv.INTER_AREA)"
   ]
  },
  {
   "cell_type": "code",
   "execution_count": 7,
   "id": "9260ce97",
   "metadata": {},
   "outputs": [
    {
     "data": {
      "text/plain": [
       "-1"
      ]
     },
     "execution_count": 7,
     "metadata": {},
     "output_type": "execute_result"
    }
   ],
   "source": [
    "img = cv.imread(r'F:\\AI&DS\\ComputerVision\\OpenCvWork\\Data\\Photos\\eagle.jpg')\n",
    "# dislpaying orignal image\n",
    "cv.imshow('eagle', img)\n",
    "\n",
    "# dislpaying rescaled image\n",
    "rescaled_img = rescaleFrame(img)\n",
    "cv.imshow('resized eagle', rescaled_img)\n",
    "    \n",
    "cv.waitKey(0)"
   ]
  },
  {
   "cell_type": "markdown",
   "id": "0c3a088e",
   "metadata": {},
   "source": [
    "## Rescalnig video frame (using cv)"
   ]
  },
  {
   "cell_type": "code",
   "execution_count": 10,
   "id": "36fc1883",
   "metadata": {},
   "outputs": [],
   "source": [
    "video = cv.VideoCapture('Data//Videos//kitten.mp4')\n",
    "while True:\n",
    "    isTrue, frame = video.read()\n",
    "    cv.imshow('vid',frame)\n",
    "    rescaled_video = rescaleFrame(frame)\n",
    "    cv.imshow('rescaledvideo',rescaled_video)\n",
    "    \n",
    "    if cv.waitKey(20) & 0xff == ord('q'):\n",
    "        break\n",
    "video.release()\n",
    "cv.destroyAllWindows()"
   ]
  },
  {
   "cell_type": "markdown",
   "id": "3dc5122a",
   "metadata": {},
   "source": [
    "## Converting image to gray scale (using cv)"
   ]
  },
  {
   "cell_type": "code",
   "execution_count": 12,
   "id": "517e36c6",
   "metadata": {},
   "outputs": [
    {
     "data": {
      "text/plain": [
       "-1"
      ]
     },
     "execution_count": 12,
     "metadata": {},
     "output_type": "execute_result"
    }
   ],
   "source": [
    "img = cv.imread(r'F:\\AI&DS\\ComputerVision\\OpenCvWork\\Data\\Photos\\eagle.jpg')\n",
    "# orignal image\n",
    "cv.imshow('eagle', img)\n",
    "\n",
    "# gray scale image \n",
    "gray = cv.cvtColor(img, cv.COLOR_BGR2GRAY)\n",
    "cv.imshow('eagleGray', gray)\n",
    "\n",
    "cv.waitKey(0)"
   ]
  },
  {
   "cell_type": "markdown",
   "id": "2e81adeb",
   "metadata": {},
   "source": [
    "## Blurring image (using cv)"
   ]
  },
  {
   "cell_type": "markdown",
   "id": "fda09caa",
   "metadata": {},
   "source": [
    "(3,3) => kernal size, increase in value increase blurriness"
   ]
  },
  {
   "cell_type": "code",
   "execution_count": 15,
   "id": "71e69652",
   "metadata": {},
   "outputs": [
    {
     "data": {
      "text/plain": [
       "-1"
      ]
     },
     "execution_count": 15,
     "metadata": {},
     "output_type": "execute_result"
    }
   ],
   "source": [
    "img = cv.imread(r'F:\\AI&DS\\ComputerVision\\OpenCvWork\\Data\\Photos\\eagle.jpg')\n",
    "# orignal image\n",
    "cv.imshow('eagle', img)\n",
    "\n",
    "# blur scale image \n",
    "blur = cv.GaussianBlur(img, (3,3) ,cv.BORDER_DEFAULT)\n",
    "cv.imshow('eagleBlur', blur)\n",
    "\n",
    "cv.waitKey(0)"
   ]
  },
  {
   "cell_type": "markdown",
   "id": "8fd322a9",
   "metadata": {},
   "source": [
    "## Finding image edges (using cv)"
   ]
  },
  {
   "cell_type": "code",
   "execution_count": 18,
   "id": "648deff6",
   "metadata": {},
   "outputs": [
    {
     "data": {
      "text/plain": [
       "-1"
      ]
     },
     "execution_count": 18,
     "metadata": {},
     "output_type": "execute_result"
    }
   ],
   "source": [
    "img = cv.imread(r'F:\\AI&DS\\ComputerVision\\OpenCvWork\\Data\\Photos\\eagle.jpg')\n",
    "# orignal image\n",
    "cv.imshow('eagle', img)\n",
    "\n",
    "# blur scale image \n",
    "blur = cv.GaussianBlur(img, (3,3) ,cv.BORDER_DEFAULT)\n",
    "cv.imshow('eagleBlur', blur)\n",
    "\n",
    "# Edge cascade image\n",
    "edge = cv.Canny(img, 125,175)\n",
    "cv.imshow('eagleEdge', edge)\n",
    "\n",
    "# For Reducing Extra edges use blur image\n",
    "reduce_edge = cv.Canny(blur, 125,175)\n",
    "cv.imshow('eagleEdge2', reduce_edge)\n",
    "\n",
    "cv.waitKey(0)"
   ]
  },
  {
   "cell_type": "markdown",
   "id": "a64a4987",
   "metadata": {},
   "source": [
    "## Dilating image (using cv)"
   ]
  },
  {
   "cell_type": "code",
   "execution_count": 19,
   "id": "262fa0f5",
   "metadata": {},
   "outputs": [
    {
     "data": {
      "text/plain": [
       "-1"
      ]
     },
     "execution_count": 19,
     "metadata": {},
     "output_type": "execute_result"
    }
   ],
   "source": [
    "img = cv.imread(r'F:\\AI&DS\\ComputerVision\\OpenCvWork\\Data\\Photos\\eagle.jpg')\n",
    "# orignal image\n",
    "cv.imshow('eagle', img)\n",
    "\n",
    "# blur scale image \n",
    "blur = cv.GaussianBlur(img, (3,3) ,cv.BORDER_DEFAULT)\n",
    "cv.imshow('eagleBlur', blur)\n",
    "\n",
    "# For Reducing Extra edges use blur image\n",
    "reduce_edge = cv.Canny(blur, 125,175)\n",
    "cv.imshow('eagleEdge2', reduce_edge)\n",
    "\n",
    "# For inreasing thinkness of edges\n",
    "dilat_edge = cv.dilate(reduce_edge, (3,3), iterations =3)\n",
    "cv.imshow('eagleDilat', dilat_edge)\n",
    "\n",
    "cv.waitKey(0)"
   ]
  },
  {
   "cell_type": "markdown",
   "id": "882eb079",
   "metadata": {},
   "source": [
    "## Crop image (using cv)"
   ]
  },
  {
   "cell_type": "markdown",
   "id": "d34c551f",
   "metadata": {},
   "source": [
    "##### Cropped image detail:\n",
    "img[100:200,200:600] => [y_point:height, x_point:wight]"
   ]
  },
  {
   "cell_type": "code",
   "execution_count": 26,
   "id": "d340d706",
   "metadata": {},
   "outputs": [
    {
     "data": {
      "text/plain": [
       "-1"
      ]
     },
     "execution_count": 26,
     "metadata": {},
     "output_type": "execute_result"
    }
   ],
   "source": [
    "img = cv.imread(r'F:\\AI&DS\\ComputerVision\\OpenCvWork\\Data\\Photos\\eagle.jpg')\n",
    "# orignal image\n",
    "cv.imshow('eagle', img)\n",
    "cropped_img = img[100:200,200:600]\n",
    "cv.imshow('croped',cropped_img)\n",
    "\n",
    "cv.waitKey(0)"
   ]
  },
  {
   "cell_type": "markdown",
   "id": "1b8a8c0f",
   "metadata": {},
   "source": [
    "# Face Detection"
   ]
  },
  {
   "cell_type": "markdown",
   "id": "532f4a54",
   "metadata": {},
   "source": [
    "face detection is performed using classifiers. A classifier is essentially an algorithm that decides whether a face is present or not.\n",
    "there are two more advance classifier:\n",
    "1. haarcasacade \n",
    "2. local binay patterns\n",
    "\n",
    "Steps:\n",
    "1. Convert image to grayscale: Face detection dose not envolve skin tone or the colors that are present in the image. These hard cascades essentially look at an object in an image and using the edges tries to determine whether it's a face or not.\n",
    "2. Read haarcasacade classifier in a variable\n",
    "3. Take rectangular coordinates of face thourgh detectMultiscale() method\n",
    "4. Cropping image using img[y:y+h, x:x+w]\n",
    "5. Displaying bounding box on face using cv.rectangle()"
   ]
  },
  {
   "cell_type": "code",
   "execution_count": null,
   "id": "1f557cd8",
   "metadata": {},
   "outputs": [],
   "source": []
  },
  {
   "cell_type": "code",
   "execution_count": null,
   "id": "52ba23c6",
   "metadata": {},
   "outputs": [],
   "source": []
  }
 ],
 "metadata": {
  "kernelspec": {
   "display_name": "Python 3",
   "language": "python",
   "name": "python3"
  },
  "language_info": {
   "codemirror_mode": {
    "name": "ipython",
    "version": 3
   },
   "file_extension": ".py",
   "mimetype": "text/x-python",
   "name": "python",
   "nbconvert_exporter": "python",
   "pygments_lexer": "ipython3",
   "version": "3.8.8"
  }
 },
 "nbformat": 4,
 "nbformat_minor": 5
}
