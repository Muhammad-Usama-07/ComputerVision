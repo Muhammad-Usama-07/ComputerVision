{
 "cells": [
  {
   "cell_type": "markdown",
   "id": "318c075f",
   "metadata": {},
   "source": [
    "# Using Necessary Libraries "
   ]
  },
  {
   "cell_type": "code",
   "execution_count": 1,
   "id": "521f2edd",
   "metadata": {},
   "outputs": [],
   "source": [
    "import cv2 as cv \n",
    "import pandas as pd \n",
    "import numpy as np"
   ]
  },
  {
   "cell_type": "markdown",
   "id": "84340697",
   "metadata": {},
   "source": [
    "## Read Image (using cv)"
   ]
  },
  {
   "cell_type": "markdown",
   "id": "17b3fba4",
   "metadata": {},
   "source": [
    "#### Cell Details:\n",
    "cv.waitKey(0) => wait window for infnite time to close the window (until user close)"
   ]
  },
  {
   "cell_type": "code",
   "execution_count": 2,
   "id": "d3d6b1ee",
   "metadata": {},
   "outputs": [
    {
     "data": {
      "text/plain": [
       "-1"
      ]
     },
     "execution_count": 2,
     "metadata": {},
     "output_type": "execute_result"
    }
   ],
   "source": [
    "img = cv.imread(r'F:\\AI&DS\\ComputerVision\\OpenCvWork\\Data\\Photos\\eagle.jpg')\n",
    "cv.imshow('Lady', img)\n",
    "cv.waitKey(0)"
   ]
  },
  {
   "cell_type": "markdown",
   "id": "e9cc9ea9",
   "metadata": {},
   "source": [
    "## Read video (using cv)"
   ]
  },
  {
   "cell_type": "markdown",
   "id": "166a8ec4",
   "metadata": {},
   "source": [
    "1. frame => Read video from frame by frame\n",
    "2. isTrue => Says wheter the frame was succesfully read in or not"
   ]
  },
  {
   "cell_type": "code",
   "execution_count": 6,
   "id": "4be4457e",
   "metadata": {},
   "outputs": [],
   "source": [
    "video = cv.VideoCapture('Data//Videos//kitten.mp4')\n",
    "while True:\n",
    "    isTrue, frame = video.read()\n",
    "    cv.imshow('vid',frame)\n",
    "    if cv.waitKey(20) & 0xff == ord('q'):\n",
    "        break\n",
    "video.release()\n",
    "cv.destroyAllWindows()"
   ]
  },
  {
   "cell_type": "markdown",
   "id": "94f52f40",
   "metadata": {},
   "source": [
    "## Rescalnig image frame (using cv)"
   ]
  },
  {
   "cell_type": "markdown",
   "id": "a713a329",
   "metadata": {},
   "source": [
    "##### Rescaling Function\n"
   ]
  },
  {
   "cell_type": "code",
   "execution_count": 8,
   "id": "daa89f00",
   "metadata": {},
   "outputs": [],
   "source": [
    "# Function that resize frame \n",
    "def rescaleFrame(frame, scale = 0.75):\n",
    "    width = int(frame.shape[1] * scale)\n",
    "    height = int(frame.shape[0] * scale)\n",
    "    dimensions = (width, height)\n",
    "    return cv.resize(frame, dimensions, interpolation = cv.INTER_AREA)"
   ]
  },
  {
   "cell_type": "code",
   "execution_count": 7,
   "id": "9260ce97",
   "metadata": {},
   "outputs": [
    {
     "data": {
      "text/plain": [
       "-1"
      ]
     },
     "execution_count": 7,
     "metadata": {},
     "output_type": "execute_result"
    }
   ],
   "source": [
    "img = cv.imread(r'F:\\AI&DS\\ComputerVision\\OpenCvWork\\Data\\Photos\\eagle.jpg')\n",
    "# dislpaying orignal image\n",
    "cv.imshow('eagle', img)\n",
    "\n",
    "# dislpaying rescaled image\n",
    "rescaled_img = rescaleFrame(img)\n",
    "cv.imshow('resized eagle', rescaled_img)\n",
    "    \n",
    "cv.waitKey(0)"
   ]
  },
  {
   "cell_type": "markdown",
   "id": "d4a81a9d",
   "metadata": {},
   "source": [
    "## Rescalnig video frame (using cv)"
   ]
  },
  {
   "cell_type": "code",
   "execution_count": 10,
   "id": "a29869bd",
   "metadata": {},
   "outputs": [],
   "source": [
    "video = cv.VideoCapture('Data//Videos//kitten.mp4')\n",
    "while True:\n",
    "    isTrue, frame = video.read()\n",
    "    cv.imshow('vid',frame)\n",
    "    rescaled_video = rescaleFrame(frame)\n",
    "    cv.imshow('rescaledvideo',rescaled_video)\n",
    "    \n",
    "    if cv.waitKey(20) & 0xff == ord('q'):\n",
    "        break\n",
    "video.release()\n",
    "cv.destroyAllWindows()"
   ]
  },
  {
   "cell_type": "code",
   "execution_count": null,
   "id": "4b15cbea",
   "metadata": {},
   "outputs": [],
   "source": []
  }
 ],
 "metadata": {
  "kernelspec": {
   "display_name": "Python 3",
   "language": "python",
   "name": "python3"
  },
  "language_info": {
   "codemirror_mode": {
    "name": "ipython",
    "version": 3
   },
   "file_extension": ".py",
   "mimetype": "text/x-python",
   "name": "python",
   "nbconvert_exporter": "python",
   "pygments_lexer": "ipython3",
   "version": "3.8.8"
  }
 },
 "nbformat": 4,
 "nbformat_minor": 5
}
