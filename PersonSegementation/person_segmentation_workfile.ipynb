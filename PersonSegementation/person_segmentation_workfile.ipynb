{
  "cells": [
    {
      "cell_type": "markdown",
      "metadata": {
        "id": "view-in-github",
        "colab_type": "text"
      },
      "source": [
        "<a href=\"https://colab.research.google.com/github/Muhammad-Usama-07/ComputerVision/blob/master/PersonSegementation/person_segmentation_workfile.ipynb\" target=\"_parent\"><img src=\"https://colab.research.google.com/assets/colab-badge.svg\" alt=\"Open In Colab\"/></a>"
      ]
    },
    {
      "cell_type": "markdown",
      "source": [
        "# Necessary Libraries"
      ],
      "metadata": {
        "id": "w06Av6z3rEzP"
      },
      "id": "w06Av6z3rEzP"
    },
    {
      "cell_type": "code",
      "source": [
        "import cv2\n",
        "import pixellib\n",
        "from pixellib.torchbackend.instance import instanceSegmentation\n",
        "from pixellib.tune_bg import alter_bg"
      ],
      "metadata": {
        "id": "YyGy5Pmdq_Pa"
      },
      "id": "YyGy5Pmdq_Pa",
      "execution_count": null,
      "outputs": []
    },
    {
      "cell_type": "markdown",
      "source": [
        "# Load Model"
      ],
      "metadata": {
        "id": "vQj0zU-o_Tsl"
      },
      "id": "vQj0zU-o_Tsl"
    },
    {
      "cell_type": "code",
      "source": [
        "ins = instanceSegmentation()\n",
        "ins.load_model(\"pointrend_resnet50.pkl\")"
      ],
      "metadata": {
        "id": "i09fweWq-17u"
      },
      "id": "i09fweWq-17u",
      "execution_count": null,
      "outputs": []
    },
    {
      "cell_type": "markdown",
      "source": [
        "## define target class (person)"
      ],
      "metadata": {
        "id": "uEtD7dgd_c5d"
      },
      "id": "uEtD7dgd_c5d"
    },
    {
      "cell_type": "code",
      "source": [
        "target_classes = ins.select_target_classes(person=True)"
      ],
      "metadata": {
        "id": "Ay94wO1M_dj-"
      },
      "id": "Ay94wO1M_dj-",
      "execution_count": null,
      "outputs": []
    },
    {
      "cell_type": "markdown",
      "source": [
        "# Detect Person in image"
      ],
      "metadata": {
        "id": "SyAnYlAn_wwt"
      },
      "id": "SyAnYlAn_wwt"
    },
    {
      "cell_type": "code",
      "source": [
        "ins.segmentImage(\"input_image.jpg\", segment_target_classes= target_classes,show_bboxes=True, output_image_name=\"output_image.png\")\n"
      ],
      "metadata": {
        "id": "RkmXa0aP_yjm"
      },
      "id": "RkmXa0aP_yjm",
      "execution_count": null,
      "outputs": []
    },
    {
      "cell_type": "markdown",
      "source": [
        "# Detect Person in Video"
      ],
      "metadata": {
        "id": "wjf1oNNHARQ0"
      },
      "id": "wjf1oNNHARQ0"
    },
    {
      "cell_type": "code",
      "source": [
        "ins.process_video('input_video.mp4', segment_target_classes= target_classes, show_bboxes=True, frames_per_second=30, output_video_name=\"output_video.mp4\")"
      ],
      "metadata": {
        "id": "TOCVgdiKAUJl"
      },
      "id": "TOCVgdiKAUJl",
      "execution_count": null,
      "outputs": []
    },
    {
      "cell_type": "markdown",
      "source": [
        "## Detect person with .h5 extension pretrained model with instance_segmentation method"
      ],
      "metadata": {
        "id": "4F279f2HBPET"
      },
      "id": "4F279f2HBPET"
    },
    {
      "cell_type": "code",
      "source": [
        "import pixellib\n",
        "from pixellib.instance import instance_segmentation\n",
        "segment_image = instance_segmentation()"
      ],
      "metadata": {
        "id": "HSwNly5XBfX9"
      },
      "id": "HSwNly5XBfX9",
      "execution_count": null,
      "outputs": []
    },
    {
      "cell_type": "code",
      "source": [
        "segment_image.load_model(\"mask_rcnn_coco.h5\")\n",
        "result=segment_image.segmentImage('input_image.jpg',show_bboxes=True, output_image_name = \"output_image.jpg\")"
      ],
      "metadata": {
        "id": "zwXO4qFGBhPk"
      },
      "id": "zwXO4qFGBhPk",
      "execution_count": null,
      "outputs": []
    },
    {
      "cell_type": "markdown",
      "source": [
        "# Save only person's detected bounding box image"
      ],
      "metadata": {
        "id": "Jg73XPQ-UKMn"
      },
      "id": "Jg73XPQ-UKMn"
    },
    {
      "cell_type": "code",
      "source": [
        "import cv2\n",
        "import pixellib\n",
        "from pixellib.torchbackend.instance import instanceSegmentation\n",
        "\n",
        "# Load the model\n",
        "ins = instanceSegmentation()\n",
        "ins.load_model(\"pointrend_resnet50.pkl\")\n",
        "\n",
        "# Select the target classes (in this case, only 'person')\n",
        "target_classes = ins.select_target_classes(person=True)\n",
        "\n",
        "# Perform instance segmentation and get the bounding boxes\n",
        "result = ins.segmentImage(\"image-asset.jpeg\", segment_target_classes=target_classes, show_bboxes=True)\n",
        "\n",
        "# Retrieve the bounding boxes\n",
        "bounding_boxes = result[0]['boxes']\n",
        "\n",
        "# Load the original image\n",
        "image = cv2.imread(\"image-asset.jpeg\")\n",
        "\n",
        "# Draw bounding boxes on the image\n",
        "for box in bounding_boxes:\n",
        "    x1, y1, x2, y2 = box\n",
        "    cv2.rectangle(image, (x1, y1), (x2, y2), (0, 255, 0), 2)\n",
        "\n",
        "# Save the image with bounding boxes\n",
        "cv2.imwrite(\"output_image.jpg\", image)\n"
      ],
      "metadata": {
        "id": "zQQ2PwOyAoMQ"
      },
      "id": "zQQ2PwOyAoMQ",
      "execution_count": null,
      "outputs": []
    },
    {
      "cell_type": "markdown",
      "source": [
        "# Detecting person using opencv\n"
      ],
      "metadata": {
        "id": "oAdeQeR0W9cC"
      },
      "id": "oAdeQeR0W9cC"
    },
    {
      "cell_type": "code",
      "source": [
        "import cv2\n",
        "import imutils\n",
        "import numpy as np\n",
        "import argparse"
      ],
      "metadata": {
        "id": "gqKf7IeBW6gi"
      },
      "id": "gqKf7IeBW6gi",
      "execution_count": 1,
      "outputs": []
    },
    {
      "cell_type": "code",
      "source": [
        "HOGCV = cv2.HOGDescriptor()\n",
        "HOGCV.setSVMDetector(cv2.HOGDescriptor_getDefaultPeopleDetector())"
      ],
      "metadata": {
        "id": "pi7KRv3hW7L0"
      },
      "id": "pi7KRv3hW7L0",
      "execution_count": 2,
      "outputs": []
    },
    {
      "cell_type": "code",
      "source": [
        "img = cv2.imread('image-asset.jpeg')\n",
        "frame = img\n",
        "bounding_box_cordinates, weights =  HOGCV.detectMultiScale(frame, winStride = (4, 4), padding = (8, 8), scale = 1.03)\n",
        "person = 1\n",
        "for x,y,w,h in bounding_box_cordinates:\n",
        "    cv2.rectangle(frame, (x,y), (x+w,y+h), (0,255,0), 2)\n",
        "    cv2.putText(frame, f'person {person}', (x,y), cv2.FONT_HERSHEY_SIMPLEX, 0.5, (0,0,255), 1)\n",
        "    person += 1\n",
        "\n",
        "cv2.putText(frame, 'Status : Detecting ', (40,40), cv2.FONT_HERSHEY_DUPLEX, 0.8, (255,0,0), 2)\n",
        "cv2.putText(frame, f'Total Persons : {person-1}', (40,70), cv2.FONT_HERSHEY_DUPLEX, 0.8, (255,0,0), 2)\n",
        "# cv2.imshow('output', frame)\n",
        "cv2.imwrite(\"output_image.jpg\", frame)"
      ],
      "metadata": {
        "id": "zbvvGDlfXCmC",
        "outputId": "1adf917a-c115-46ca-92ab-2b851edb9047",
        "colab": {
          "base_uri": "https://localhost:8080/"
        }
      },
      "id": "zbvvGDlfXCmC",
      "execution_count": 6,
      "outputs": [
        {
          "output_type": "execute_result",
          "data": {
            "text/plain": [
              "True"
            ]
          },
          "metadata": {},
          "execution_count": 6
        }
      ]
    },
    {
      "cell_type": "code",
      "source": [],
      "metadata": {
        "id": "6f98dFQnXhdG"
      },
      "id": "6f98dFQnXhdG",
      "execution_count": null,
      "outputs": []
    }
  ],
  "metadata": {
    "colab": {
      "provenance": [],
      "include_colab_link": true
    },
    "language_info": {
      "name": "python"
    },
    "kernelspec": {
      "name": "python3",
      "display_name": "Python 3"
    },
    "gpuClass": "standard"
  },
  "nbformat": 4,
  "nbformat_minor": 5
}