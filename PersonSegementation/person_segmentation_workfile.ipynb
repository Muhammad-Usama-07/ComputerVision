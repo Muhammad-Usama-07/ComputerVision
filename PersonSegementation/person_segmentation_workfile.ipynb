{
  "cells": [
    {
      "cell_type": "markdown",
      "metadata": {
        "id": "view-in-github",
        "colab_type": "text"
      },
      "source": [
        "<a href=\"https://colab.research.google.com/github/Muhammad-Usama-07/ComputerVision/blob/master/PersonSegementation/person_segmentation_workfile.ipynb\" target=\"_parent\"><img src=\"https://colab.research.google.com/assets/colab-badge.svg\" alt=\"Open In Colab\"/></a>"
      ]
    },
    {
      "cell_type": "markdown",
      "source": [
        "# Necessary Libraries"
      ],
      "metadata": {
        "id": "w06Av6z3rEzP"
      },
      "id": "w06Av6z3rEzP"
    },
    {
      "cell_type": "code",
      "source": [
        "import cv2\n",
        "import pixellib\n",
        "from pixellib.torchbackend.instance import instanceSegmentation\n",
        "from pixellib.tune_bg import alter_bg"
      ],
      "metadata": {
        "id": "YyGy5Pmdq_Pa"
      },
      "id": "YyGy5Pmdq_Pa",
      "execution_count": 7,
      "outputs": []
    },
    {
      "cell_type": "markdown",
      "source": [
        "# Load Model"
      ],
      "metadata": {
        "id": "vQj0zU-o_Tsl"
      },
      "id": "vQj0zU-o_Tsl"
    },
    {
      "cell_type": "code",
      "source": [
        "ins = instanceSegmentation()\n",
        "ins.load_model(\"pointrend_resnet50.pkl\")"
      ],
      "metadata": {
        "id": "i09fweWq-17u"
      },
      "id": "i09fweWq-17u",
      "execution_count": null,
      "outputs": []
    },
    {
      "cell_type": "markdown",
      "source": [
        "## define target class (person)"
      ],
      "metadata": {
        "id": "uEtD7dgd_c5d"
      },
      "id": "uEtD7dgd_c5d"
    },
    {
      "cell_type": "code",
      "source": [
        "target_classes = ins.select_target_classes(person=True)"
      ],
      "metadata": {
        "id": "Ay94wO1M_dj-"
      },
      "id": "Ay94wO1M_dj-",
      "execution_count": null,
      "outputs": []
    },
    {
      "cell_type": "markdown",
      "source": [
        "# Detect Person in image"
      ],
      "metadata": {
        "id": "SyAnYlAn_wwt"
      },
      "id": "SyAnYlAn_wwt"
    },
    {
      "cell_type": "code",
      "source": [
        "ins.segmentImage(\"input_image.jpg\", segment_target_classes= target_classes,show_bboxes=True, output_image_name=\"output_image.png\")\n"
      ],
      "metadata": {
        "id": "RkmXa0aP_yjm"
      },
      "id": "RkmXa0aP_yjm",
      "execution_count": null,
      "outputs": []
    },
    {
      "cell_type": "markdown",
      "source": [
        "# Detect Person in Video"
      ],
      "metadata": {
        "id": "wjf1oNNHARQ0"
      },
      "id": "wjf1oNNHARQ0"
    },
    {
      "cell_type": "code",
      "source": [
        "ins.process_video('input_video.mp4', segment_target_classes= target_classes, show_bboxes=True, frames_per_second=30, output_video_name=\"output_video.mp4\")"
      ],
      "metadata": {
        "id": "TOCVgdiKAUJl"
      },
      "id": "TOCVgdiKAUJl",
      "execution_count": null,
      "outputs": []
    },
    {
      "cell_type": "markdown",
      "source": [
        "## Detect person with .h5 extension pretrained model with instance_segmentation method"
      ],
      "metadata": {
        "id": "4F279f2HBPET"
      },
      "id": "4F279f2HBPET"
    },
    {
      "cell_type": "code",
      "source": [
        "import pixellib\n",
        "from pixellib.instance import instance_segmentation\n",
        "segment_image = instance_segmentation()"
      ],
      "metadata": {
        "id": "HSwNly5XBfX9"
      },
      "id": "HSwNly5XBfX9",
      "execution_count": null,
      "outputs": []
    },
    {
      "cell_type": "code",
      "source": [
        "segment_image.load_model(\"mask_rcnn_coco.h5\") \n",
        "result=segment_image.segmentImage('input_image.jpg',show_bboxes=True, output_image_name = \"output_image.jpg\")"
      ],
      "metadata": {
        "id": "zwXO4qFGBhPk"
      },
      "id": "zwXO4qFGBhPk",
      "execution_count": null,
      "outputs": []
    },
    {
      "cell_type": "code",
      "source": [],
      "metadata": {
        "id": "zQQ2PwOyAoMQ"
      },
      "id": "zQQ2PwOyAoMQ",
      "execution_count": null,
      "outputs": []
    }
  ],
  "metadata": {
    "colab": {
      "provenance": [],
      "toc_visible": true,
      "include_colab_link": true
    },
    "language_info": {
      "name": "python"
    },
    "kernelspec": {
      "name": "python3",
      "display_name": "Python 3"
    },
    "gpuClass": "standard"
  },
  "nbformat": 4,
  "nbformat_minor": 5
}