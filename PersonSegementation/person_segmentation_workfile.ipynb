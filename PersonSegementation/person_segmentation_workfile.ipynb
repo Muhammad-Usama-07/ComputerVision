{
  "cells": [
    {
      "cell_type": "markdown",
      "metadata": {
        "id": "view-in-github",
        "colab_type": "text"
      },
      "source": [
        "<a href=\"https://colab.research.google.com/github/Muhammad-Usama-07/ComputerVision/blob/master/PersonSegementation/person_segmentation_workfile.ipynb\" target=\"_parent\"><img src=\"https://colab.research.google.com/assets/colab-badge.svg\" alt=\"Open In Colab\"/></a>"
      ]
    },
    {
      "cell_type": "markdown",
      "source": [
        "# Necessary Libraries"
      ],
      "metadata": {
        "id": "w06Av6z3rEzP"
      },
      "id": "w06Av6z3rEzP"
    },
    {
      "cell_type": "code",
      "source": [
        "import cv2\n",
        "import pixellib\n",
        "from pixellib.instance import instance_segmentation"
      ],
      "metadata": {
        "id": "YyGy5Pmdq_Pa"
      },
      "id": "YyGy5Pmdq_Pa",
      "execution_count": 3,
      "outputs": []
    }
  ],
  "metadata": {
    "colab": {
      "provenance": [],
      "include_colab_link": true
    },
    "language_info": {
      "name": "python"
    },
    "kernelspec": {
      "name": "python3",
      "display_name": "Python 3"
    },
    "gpuClass": "standard"
  },
  "nbformat": 4,
  "nbformat_minor": 5
}