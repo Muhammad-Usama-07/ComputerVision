{
  "cells": [
    {
      "cell_type": "markdown",
      "source": [
        "# Using Necessary Libraries "
      ],
      "metadata": {
        "id": "NZDkI8FwNGUg"
      },
      "id": "NZDkI8FwNGUg"
    },
    {
      "cell_type": "code",
      "execution_count": 4,
      "id": "0224221f",
      "metadata": {
        "id": "0224221f"
      },
      "outputs": [],
      "source": [
        "import cv2\n",
        "import os\n",
        "import numpy as np\n",
        "from tensorflow.keras.preprocessing.image import img_to_array\n",
        "from tensorflow.keras.models import model_from_json"
      ]
    },
    {
      "cell_type": "markdown",
      "source": [
        "# Loading Model and Weight"
      ],
      "metadata": {
        "id": "2ys9yfimNvrX"
      },
      "id": "2ys9yfimNvrX"
    },
    {
      "cell_type": "code",
      "source": [
        "# jLoad trained model\n",
        "son_file = open('./models/antispoofing_model.json','r')\n",
        "loaded_model_json = json_file.read()\n",
        "json_file.close()\n",
        "model = model_from_json(loaded_model_json)\n",
        "# load model weights \n",
        "model.load_weights('models/antispoofing_model.h5')\n",
        "print(\"Model loaded from disk\")"
      ],
      "metadata": {
        "id": "jprPw0kCNnQM"
      },
      "id": "jprPw0kCNnQM",
      "execution_count": 4,
      "outputs": []
    },
    {
      "cell_type": "markdown",
      "source": [
        "# Test Image"
      ],
      "metadata": {
        "id": "JvSzLyWtTUe-"
      },
      "id": "JvSzLyWtTUe-"
    },
    {
      "cell_type": "code",
      "source": [
        "face_cascade = cv2.CascadeClassifier('haarcascade_frontalface_default.xml')\n",
        "\n",
        "for i in os.listdir('image_folder'):\n",
        "#     print('.Test/'+i)\n",
        "    img = cv2.imread('./image_folder/'+i)\n",
        "#     print(img)\n",
        "    gray = cv2.cvtColor(img, cv2.COLOR_BGR2GRAY)\n",
        "    faces = face_cascade.detectMultiScale(gray, 1.1, 4)\n",
        "    for (x, y , w ,h) in faces:\n",
        "        roi_color = img[y:y+h, x:x+w]\n",
        "#         cv2.imwrite('./cropped3/'+i+'.png', roi_color)\n",
        "        resized_face = cv2.resize(roi_color,(160,160))\n",
        "        resized_face = resized_face.astype(\"float\") / 255.0\n",
        "        resized_face = img_to_array(resized_face)\n",
        "        resized_face = np.expand_dims(resized_face, axis=0)\n",
        "        # pass the face ROI through the trained liveness detector\n",
        "        # model to determine if the face is \"real\" or \"fake\"\n",
        "        preds = model.predict(resized_face)[0]\n",
        "        confid = preds[0] * 100\n",
        "        print('Confidence: '+ str(confid) + ' ', end='' )\n",
        "    #     if preds> 0.4 or preds in range(0.007, 0.0079):\n",
        "        if confid> 40 :\n",
        "            label = f'The person \"{i}\" is spoof'\n",
        "            print(label)\n",
        "        else:\n",
        "            label = f'The person \"{i}\" is real'\n",
        "            print(label)"
      ],
      "metadata": {
        "id": "oMhYhOSISUrJ"
      },
      "id": "oMhYhOSISUrJ",
      "execution_count": null,
      "outputs": []
    }
  ],
  "metadata": {
    "kernelspec": {
      "display_name": "Python 3 (ipykernel)",
      "language": "python",
      "name": "python3"
    },
    "language_info": {
      "codemirror_mode": {
        "name": "ipython",
        "version": 3
      },
      "file_extension": ".py",
      "mimetype": "text/x-python",
      "name": "python",
      "nbconvert_exporter": "python",
      "pygments_lexer": "ipython3",
      "version": "3.9.7"
    },
    "colab": {
      "name": "Anti-Spoof-Prediction.ipynb",
      "provenance": []
    }
  },
  "nbformat": 4,
  "nbformat_minor": 5
}