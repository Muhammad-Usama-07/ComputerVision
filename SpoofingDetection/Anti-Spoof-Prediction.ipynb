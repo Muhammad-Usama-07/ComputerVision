{
 "cells": [
  {
   "cell_type": "markdown",
   "id": "NZDkI8FwNGUg",
   "metadata": {
    "id": "NZDkI8FwNGUg"
   },
   "source": [
    "# Using Necessary Libraries "
   ]
  },
  {
   "cell_type": "code",
   "execution_count": 1,
   "id": "0224221f",
   "metadata": {
    "id": "0224221f"
   },
   "outputs": [],
   "source": [
    "import cv2\n",
    "import os\n",
    "import numpy as np\n",
    "from tensorflow.keras.preprocessing.image import img_to_array\n",
    "from tensorflow.keras.models import model_from_json"
   ]
  },
  {
   "cell_type": "markdown",
   "id": "2ys9yfimNvrX",
   "metadata": {
    "id": "2ys9yfimNvrX"
   },
   "source": [
    "# Loading Model and Weight"
   ]
  },
  {
   "cell_type": "code",
   "execution_count": 3,
   "id": "jprPw0kCNnQM",
   "metadata": {
    "id": "jprPw0kCNnQM"
   },
   "outputs": [
    {
     "name": "stdout",
     "output_type": "stream",
     "text": [
      "Model loaded from disk\n"
     ]
    }
   ],
   "source": [
    "# jLoad trained model\n",
    "json_file = open('./models/antispoofing_model.json','r')\n",
    "loaded_model_json = json_file.read()\n",
    "json_file.close()\n",
    "model = model_from_json(loaded_model_json)\n",
    "# load model weights \n",
    "model.load_weights('models/antispoofing_model.h5')\n",
    "print(\"Model loaded from disk\")"
   ]
  },
  {
   "cell_type": "markdown",
   "id": "JvSzLyWtTUe-",
   "metadata": {
    "id": "JvSzLyWtTUe-"
   },
   "source": [
    "# Test Image"
   ]
  },
  {
   "cell_type": "code",
   "execution_count": 26,
   "id": "42a242a1",
   "metadata": {},
   "outputs": [
    {
     "name": "stdout",
     "output_type": "stream",
     "text": [
      "Confidence: 66.12302660942078 The person's mobile image is spoof\n",
      "Confidence: 23.445141315460205 The person's real image is real\n"
     ]
    }
   ],
   "source": [
    "import glob \n",
    "for i in glob.glob('image_folder/*.jpg'):\n",
    "#     print(i)\n",
    "    img = cv2.imread(i)\n",
    "    resized_face = cv2.resize(img,(160,160))\n",
    "    resized_face = resized_face.astype(\"float\") / 255.0\n",
    "    resized_face = img_to_array(resized_face)\n",
    "    resized_face = np.expand_dims(resized_face, axis=0)\n",
    "    # pass the face ROI through the trained liveness detector\n",
    "    # model to determine if the face is \"real\" or \"fake\"\n",
    "    preds = model.predict(resized_face)[0]\n",
    "    confid = preds[0] * 100\n",
    "    print('Confidence: '+ str(confid) + ' ', end='' )\n",
    "#     if preds> 0.4 or preds in range(0.007, 0.0079):\n",
    "    if confid> 40 :\n",
    "#         i = i.split(\"\\\")\n",
    "#         i = i[1].split('.')[0]\n",
    "        img_name = i.split('\\\\')[1].split('.')[0].split('_')[0]\n",
    "        label = f\"The person's {img_name} image is spoof\"\n",
    "        print(label)\n",
    "    else:\n",
    "        img_name = i.split('\\\\')[1].split('.')[0].split('_')[0]\n",
    "        label = f\"The person's {img_name} image is real\"\n",
    "        print(label)"
   ]
  },
  {
   "cell_type": "code",
   "execution_count": null,
   "id": "e325df74",
   "metadata": {},
   "outputs": [],
   "source": []
  }
 ],
 "metadata": {
  "colab": {
   "name": "Anti-Spoof-Prediction.ipynb",
   "provenance": []
  },
  "kernelspec": {
   "display_name": "Python 3 (ipykernel)",
   "language": "python",
   "name": "python3"
  },
  "language_info": {
   "codemirror_mode": {
    "name": "ipython",
    "version": 3
   },
   "file_extension": ".py",
   "mimetype": "text/x-python",
   "name": "python",
   "nbconvert_exporter": "python",
   "pygments_lexer": "ipython3",
   "version": "3.9.7"
  }
 },
 "nbformat": 4,
 "nbformat_minor": 5
}
